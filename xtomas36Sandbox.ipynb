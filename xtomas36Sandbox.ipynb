{
 "cells": [
  {
   "cell_type": "markdown",
   "metadata": {},
   "source": [
    "Věrohodnost"
   ]
  },
  {
   "cell_type": "code",
   "execution_count": 31,
   "metadata": {},
   "outputs": [],
   "source": [
    "import numpy as np\n",
    "import pandas as pd \n",
    "\n",
    "\n",
    "import matplotlib.pyplot as plt\n",
    "import scipy.optimize as optimize\n",
    "import scipy\n",
    "import seaborn as sns\n",
    "import json\n",
    "from zipfile import ZipFile"
   ]
  },
  {
   "cell_type": "code",
   "execution_count": 32,
   "metadata": {},
   "outputs": [
    {
     "name": "stdout",
     "output_type": "stream",
     "text": [
      "     censored  doba práce v oboru [roky]\n",
      "0           0                      6.528\n",
      "1           0                      6.013\n",
      "2           1                      6.055\n",
      "3           0                      7.243\n",
      "4           1                      5.629\n",
      "..        ...                        ...\n",
      "316         1                      5.562\n",
      "317         0                      5.491\n",
      "318         0                      6.761\n",
      "319         0                      7.062\n",
      "320         0                      5.784\n",
      "\n",
      "[321 rows x 2 columns]\n"
     ]
    }
   ],
   "source": [
    "# load data\n",
    "fileName = \"Data_2024.xlsx\"\n",
    "df = pd.read_excel(fileName, sheet_name=\"Data_věrohodnost\") # need pip install xlrd and openpyxl\n",
    "df = df.iloc[:, :-2] # remove columns without information\n",
    "# check types\n",
    "df['censored'] = df['censored'].astype(int)\n",
    "df['doba práce v oboru [roky]'] = df['doba práce v oboru [roky]'].astype(float)\n",
    "print(df)"
   ]
  },
  {
   "cell_type": "markdown",
   "metadata": {},
   "source": [
    "f(x;lambda, k) = "
   ]
  },
  {
   "cell_type": "code",
   "execution_count": 33,
   "metadata": {},
   "outputs": [
    {
     "name": "stdout",
     "output_type": "stream",
     "text": [
      " message: Optimization terminated successfully\n",
      " success: True\n",
      "  status: 0\n",
      "     fun: 249.31509175824306\n",
      "       x: [ 6.490e+00  8.641e+00]\n",
      "     nit: 16\n",
      "     jac: [-2.670e-05  6.866e-05]\n",
      "    nfev: 61\n",
      "    njev: 16\n"
     ]
    }
   ],
   "source": [
    "from scipy.optimize import minimize\n",
    "\n",
    "def log_likelihood(params, x, censor):\n",
    "    k, lamb = params\n",
    "    return -np.sum(censor * (np.log(k) - np.log(lamb) + (k-1) * np.log(x/lamb) - (x/lamb)**k) + (1-censor) * (-(x/lamb)**k))\n",
    "    #return - (n * np.log(k) - n*k*np.log(lamb) + (k-1)* np.sum(np.log(x)) - np.sum((x/lamb)**k))\n",
    "\n",
    "init_guess = [1, 1]\n",
    "    \n",
    "# Define the bounds for the parameters\n",
    "bounds = [(0, None), (0, None)]\n",
    "    \n",
    "x = df['doba práce v oboru [roky]'].values\n",
    "censored = df['censored'].values\n",
    "\n",
    "# Perform the optimization\n",
    "res = minimize(log_likelihood, init_guess, args=(x, censored), method=\"SLSQP\", bounds=bounds)\n",
    "\n",
    "print(res)"
   ]
  },
  {
   "cell_type": "code",
   "execution_count": 34,
   "metadata": {},
   "outputs": [
    {
     "data": {
      "text/plain": [
       "Parametric SurPyval Model\n",
       "=========================\n",
       "Distribution        : Weibull\n",
       "Fitted by           : MLE\n",
       "Parameters          :\n",
       "     alpha: 7.738077941578665\n",
       "      beta: 2.263120966029976"
      ]
     },
     "execution_count": 34,
     "metadata": {},
     "output_type": "execute_result"
    }
   ],
   "source": [
    "import surpyval as surv\n",
    "\n",
    "# Failures\n",
    "f = [1, 4, 5, 7, 8, 10]\n",
    "\n",
    "# suspended or right-censored points\n",
    "s = [5, 6, 7]\n",
    "\n",
    "# Convert 'fs' format to the 'xcn' format \n",
    "# x is the time/variable\n",
    "# c is the censoring flag 0 = failed, 1 = right-censored\n",
    "# n is the count\n",
    "\n",
    "x, c, n = surv.fs_to_xcn(f=f, s=s)\n",
    "# Fit model\n",
    "surv.Weibull.fit(x, c, n)"
   ]
  },
  {
   "cell_type": "code",
   "execution_count": 6,
   "metadata": {},
   "outputs": [
    {
     "name": "stdout",
     "output_type": "stream",
     "text": [
      "[7.42946141 6.17281648]\n"
     ]
    }
   ],
   "source": [
    "import surpyval as surv\n",
    "values = df['doba práce v oboru [roky]'].values\n",
    "\n",
    "# 0 = failed, 1 = right censored\n",
    "censored = df['censored'].values\n",
    "\n",
    "model = surv.Weibull.fit(values, c=censored)\n",
    "print(model.params)"
   ]
  },
  {
   "cell_type": "code",
   "execution_count": 54,
   "metadata": {},
   "outputs": [
    {
     "name": "stdout",
     "output_type": "stream",
     "text": [
      "Odhadnuté parametry: k = 6.1728, λ = 7.4295\n"
     ]
    }
   ],
   "source": [
    "x = df['doba práce v oboru [roky]'].values\n",
    "\n",
    "# 0 = failed, 1 = right censored\n",
    "censored = df['censored'].values\n",
    "\n",
    "# Logaritmická věrohodnost pro cenzorovaná data\n",
    "def log_likelihood(params):\n",
    "    k, lam = params\n",
    "    if k <= 0 or lam <= 0:\n",
    "        return np.inf  # Parametry musí být kladné\n",
    "    # Hustota a přeživší funkce\n",
    "    pdf = (k / lam) * (x / lam)**(k - 1) * np.exp(-(x / lam)**k)  # Hustota\n",
    "    sf = np.exp(-(x / lam)**k)  # Přeživší funkce\n",
    "    # Logaritmická věrohodnost\n",
    "    log_l = (1 - censored) * np.log(pdf) + censored * np.log(sf)\n",
    "    return -np.sum(log_l)  # Negace pro minimalizaci\n",
    "\n",
    "# Počáteční odhady\n",
    "initial_params = [1.0, 1.0]\n",
    "\n",
    "# Optimalizace\n",
    "result = minimize(log_likelihood, initial_params, method='L-BFGS-B', bounds=((1e-5, None), (1e-5, None)))\n",
    "\n",
    "# Výsledky\n",
    "if result.success:\n",
    "    k_hat, lam_hat = result.x\n",
    "    print(f\"Odhadnuté parametry: k = {k_hat:.4f}, λ = {lam_hat:.4f}\")\n",
    "else:\n",
    "    print(\"Optimalizace selhala:\", result.message)"
   ]
  },
  {
   "cell_type": "code",
   "execution_count": 53,
   "metadata": {},
   "outputs": [
    {
     "name": "stdout",
     "output_type": "stream",
     "text": [
      "  message: ABNORMAL_TERMINATION_IN_LNSRCH\n",
      "  success: False\n",
      "   status: 2\n",
      "      fun: inf\n",
      "        x: [ 1.000e+00  1.000e+00]\n",
      "      nit: 0\n",
      "      jac: [ 1.940e+03 -1.094e+03]\n",
      "     nfev: 63\n",
      "     njev: 21\n",
      " hess_inv: <2x2 LbfgsInvHessProduct with dtype=float64>\n",
      "Odhadnuté parametry: k = 1.00000000, lambda = 1.00000000\n"
     ]
    },
    {
     "name": "stderr",
     "output_type": "stream",
     "text": [
      "C:\\Users\\marti\\AppData\\Local\\Temp\\ipykernel_11856\\4240214372.py:14: RuntimeWarning: invalid value encountered in log\n",
      "  censored_loglik = np.log(1 - ((1/k) - np.log(lam) + np.log(x[censored]) - np.log(x[censored] / lam) * ((x[censored]/lam) ** k)))#(np.exp(-(x[censored] / lam) ** k)*(k/lam)*((x[censored]/lam)**(k-1))))\n",
      "c:\\Users\\marti\\anaconda3\\envs\\aidojo\\Lib\\site-packages\\scipy\\optimize\\_numdiff.py:592: RuntimeWarning: invalid value encountered in subtract\n",
      "  df = fun(x1) - f0\n"
     ]
    }
   ],
   "source": [
    "x = df['doba práce v oboru [roky]'].values\n",
    "\n",
    "# 0 = failed, 1 = right censored\n",
    "censored = df['censored'].values\n",
    "# Negative log-likelihood with improved stability\n",
    "def negative_log_likelihood(params):\n",
    "    k, lam = params\n",
    "    if k <= 0 or lam <= 0:  # Ensure positive parameters\n",
    "        return np.inf\n",
    "\n",
    "    # Uncensored contribution f(x) original \n",
    "    uncensored_loglik = np.log((k / lam) * (x[~censored] / lam) ** (k - 1) * np.exp(-(x[~censored] / lam) ** k))\n",
    "    # Censored contribution (1- F(x)) log likelihood\n",
    "    censored_loglik = np.log(1 - ((1/k) - np.log(lam) + np.log(x[censored]) - np.log(x[censored] / lam) * ((x[censored]/lam) ** k)))#(np.exp(-(x[censored] / lam) ** k)*(k/lam)*((x[censored]/lam)**(k-1))))\n",
    "\n",
    "    # Combine and return negative log-likelihood\n",
    "    nll = -(np.sum(uncensored_loglik) + np.sum(censored_loglik))\n",
    "    return nll\n",
    "\n",
    "initial_guess = [1, 1]\n",
    "# Optimize with refined settings\n",
    "result = minimize(negative_log_likelihood, initial_guess, method=\"L-BFGS-B\")\n",
    "\n",
    "# Display results\n",
    "print(result)\n",
    "k_mle, lambda_mle = result.x\n",
    "print(f\"Odhadnuté parametry: k = {k_mle:.8f}, lambda = {lambda_mle:.8f}\")\n"
   ]
  },
  {
   "cell_type": "code",
   "execution_count": 42,
   "metadata": {},
   "outputs": [
    {
     "ename": "ValueError",
     "evalue": "operands could not be broadcast together with shapes (321,) (9,) ",
     "output_type": "error",
     "traceback": [
      "\u001b[1;31m---------------------------------------------------------------------------\u001b[0m",
      "\u001b[1;31mValueError\u001b[0m                                Traceback (most recent call last)",
      "Cell \u001b[1;32mIn[42], line 30\u001b[0m\n\u001b[0;32m     27\u001b[0m initial_guess \u001b[38;5;241m=\u001b[39m [\u001b[38;5;241m1.0\u001b[39m, \u001b[38;5;241m1.0\u001b[39m]\n\u001b[0;32m     29\u001b[0m \u001b[38;5;66;03m# Optimalizace\u001b[39;00m\n\u001b[1;32m---> 30\u001b[0m result \u001b[38;5;241m=\u001b[39m \u001b[43mminimize\u001b[49m\u001b[43m(\u001b[49m\u001b[43mnegative_log_likelihood\u001b[49m\u001b[43m,\u001b[49m\u001b[43m \u001b[49m\u001b[43minitial_guess\u001b[49m\u001b[43m,\u001b[49m\u001b[43m \u001b[49m\u001b[43mmethod\u001b[49m\u001b[38;5;241;43m=\u001b[39;49m\u001b[38;5;124;43m\"\u001b[39;49m\u001b[38;5;124;43mL-BFGS-B\u001b[39;49m\u001b[38;5;124;43m\"\u001b[39;49m\u001b[43m,\u001b[49m\u001b[43m \u001b[49m\u001b[43mbounds\u001b[49m\u001b[38;5;241;43m=\u001b[39;49m\u001b[43m[\u001b[49m\u001b[43m(\u001b[49m\u001b[38;5;241;43m1e-6\u001b[39;49m\u001b[43m,\u001b[49m\u001b[43m \u001b[49m\u001b[38;5;28;43;01mNone\u001b[39;49;00m\u001b[43m)\u001b[49m\u001b[43m,\u001b[49m\u001b[43m \u001b[49m\u001b[43m(\u001b[49m\u001b[38;5;241;43m1e-6\u001b[39;49m\u001b[43m,\u001b[49m\u001b[43m \u001b[49m\u001b[38;5;28;43;01mNone\u001b[39;49;00m\u001b[43m)\u001b[49m\u001b[43m]\u001b[49m\u001b[43m)\u001b[49m\n\u001b[0;32m     32\u001b[0m \u001b[38;5;66;03m# Výsledné odhady\u001b[39;00m\n\u001b[0;32m     33\u001b[0m k_mle, lambda_mle \u001b[38;5;241m=\u001b[39m result\u001b[38;5;241m.\u001b[39mx\n",
      "File \u001b[1;32mc:\\Users\\marti\\anaconda3\\envs\\aidojo\\Lib\\site-packages\\scipy\\optimize\\_minimize.py:731\u001b[0m, in \u001b[0;36mminimize\u001b[1;34m(fun, x0, args, method, jac, hess, hessp, bounds, constraints, tol, callback, options)\u001b[0m\n\u001b[0;32m    728\u001b[0m     res \u001b[38;5;241m=\u001b[39m _minimize_newtoncg(fun, x0, args, jac, hess, hessp, callback,\n\u001b[0;32m    729\u001b[0m                              \u001b[38;5;241m*\u001b[39m\u001b[38;5;241m*\u001b[39moptions)\n\u001b[0;32m    730\u001b[0m \u001b[38;5;28;01melif\u001b[39;00m meth \u001b[38;5;241m==\u001b[39m \u001b[38;5;124m'\u001b[39m\u001b[38;5;124ml-bfgs-b\u001b[39m\u001b[38;5;124m'\u001b[39m:\n\u001b[1;32m--> 731\u001b[0m     res \u001b[38;5;241m=\u001b[39m \u001b[43m_minimize_lbfgsb\u001b[49m\u001b[43m(\u001b[49m\u001b[43mfun\u001b[49m\u001b[43m,\u001b[49m\u001b[43m \u001b[49m\u001b[43mx0\u001b[49m\u001b[43m,\u001b[49m\u001b[43m \u001b[49m\u001b[43margs\u001b[49m\u001b[43m,\u001b[49m\u001b[43m \u001b[49m\u001b[43mjac\u001b[49m\u001b[43m,\u001b[49m\u001b[43m \u001b[49m\u001b[43mbounds\u001b[49m\u001b[43m,\u001b[49m\n\u001b[0;32m    732\u001b[0m \u001b[43m                           \u001b[49m\u001b[43mcallback\u001b[49m\u001b[38;5;241;43m=\u001b[39;49m\u001b[43mcallback\u001b[49m\u001b[43m,\u001b[49m\u001b[43m \u001b[49m\u001b[38;5;241;43m*\u001b[39;49m\u001b[38;5;241;43m*\u001b[39;49m\u001b[43moptions\u001b[49m\u001b[43m)\u001b[49m\n\u001b[0;32m    733\u001b[0m \u001b[38;5;28;01melif\u001b[39;00m meth \u001b[38;5;241m==\u001b[39m \u001b[38;5;124m'\u001b[39m\u001b[38;5;124mtnc\u001b[39m\u001b[38;5;124m'\u001b[39m:\n\u001b[0;32m    734\u001b[0m     res \u001b[38;5;241m=\u001b[39m _minimize_tnc(fun, x0, args, jac, bounds, callback\u001b[38;5;241m=\u001b[39mcallback,\n\u001b[0;32m    735\u001b[0m                         \u001b[38;5;241m*\u001b[39m\u001b[38;5;241m*\u001b[39moptions)\n",
      "File \u001b[1;32mc:\\Users\\marti\\anaconda3\\envs\\aidojo\\Lib\\site-packages\\scipy\\optimize\\_lbfgsb_py.py:347\u001b[0m, in \u001b[0;36m_minimize_lbfgsb\u001b[1;34m(fun, x0, args, jac, bounds, disp, maxcor, ftol, gtol, eps, maxfun, maxiter, iprint, callback, maxls, finite_diff_rel_step, **unknown_options)\u001b[0m\n\u001b[0;32m    344\u001b[0m         iprint \u001b[38;5;241m=\u001b[39m disp\n\u001b[0;32m    346\u001b[0m \u001b[38;5;66;03m# _prepare_scalar_function can use bounds=None to represent no bounds\u001b[39;00m\n\u001b[1;32m--> 347\u001b[0m sf \u001b[38;5;241m=\u001b[39m \u001b[43m_prepare_scalar_function\u001b[49m\u001b[43m(\u001b[49m\u001b[43mfun\u001b[49m\u001b[43m,\u001b[49m\u001b[43m \u001b[49m\u001b[43mx0\u001b[49m\u001b[43m,\u001b[49m\u001b[43m \u001b[49m\u001b[43mjac\u001b[49m\u001b[38;5;241;43m=\u001b[39;49m\u001b[43mjac\u001b[49m\u001b[43m,\u001b[49m\u001b[43m \u001b[49m\u001b[43margs\u001b[49m\u001b[38;5;241;43m=\u001b[39;49m\u001b[43margs\u001b[49m\u001b[43m,\u001b[49m\u001b[43m \u001b[49m\u001b[43mepsilon\u001b[49m\u001b[38;5;241;43m=\u001b[39;49m\u001b[43meps\u001b[49m\u001b[43m,\u001b[49m\n\u001b[0;32m    348\u001b[0m \u001b[43m                              \u001b[49m\u001b[43mbounds\u001b[49m\u001b[38;5;241;43m=\u001b[39;49m\u001b[43mbounds\u001b[49m\u001b[43m,\u001b[49m\n\u001b[0;32m    349\u001b[0m \u001b[43m                              \u001b[49m\u001b[43mfinite_diff_rel_step\u001b[49m\u001b[38;5;241;43m=\u001b[39;49m\u001b[43mfinite_diff_rel_step\u001b[49m\u001b[43m)\u001b[49m\n\u001b[0;32m    351\u001b[0m func_and_grad \u001b[38;5;241m=\u001b[39m sf\u001b[38;5;241m.\u001b[39mfun_and_grad\n\u001b[0;32m    353\u001b[0m fortran_int \u001b[38;5;241m=\u001b[39m _lbfgsb\u001b[38;5;241m.\u001b[39mtypes\u001b[38;5;241m.\u001b[39mintvar\u001b[38;5;241m.\u001b[39mdtype\n",
      "File \u001b[1;32mc:\\Users\\marti\\anaconda3\\envs\\aidojo\\Lib\\site-packages\\scipy\\optimize\\_optimize.py:288\u001b[0m, in \u001b[0;36m_prepare_scalar_function\u001b[1;34m(fun, x0, jac, args, bounds, epsilon, finite_diff_rel_step, hess)\u001b[0m\n\u001b[0;32m    284\u001b[0m     bounds \u001b[38;5;241m=\u001b[39m (\u001b[38;5;241m-\u001b[39mnp\u001b[38;5;241m.\u001b[39minf, np\u001b[38;5;241m.\u001b[39minf)\n\u001b[0;32m    286\u001b[0m \u001b[38;5;66;03m# ScalarFunction caches. Reuse of fun(x) during grad\u001b[39;00m\n\u001b[0;32m    287\u001b[0m \u001b[38;5;66;03m# calculation reduces overall function evaluations.\u001b[39;00m\n\u001b[1;32m--> 288\u001b[0m sf \u001b[38;5;241m=\u001b[39m \u001b[43mScalarFunction\u001b[49m\u001b[43m(\u001b[49m\u001b[43mfun\u001b[49m\u001b[43m,\u001b[49m\u001b[43m \u001b[49m\u001b[43mx0\u001b[49m\u001b[43m,\u001b[49m\u001b[43m \u001b[49m\u001b[43margs\u001b[49m\u001b[43m,\u001b[49m\u001b[43m \u001b[49m\u001b[43mgrad\u001b[49m\u001b[43m,\u001b[49m\u001b[43m \u001b[49m\u001b[43mhess\u001b[49m\u001b[43m,\u001b[49m\n\u001b[0;32m    289\u001b[0m \u001b[43m                    \u001b[49m\u001b[43mfinite_diff_rel_step\u001b[49m\u001b[43m,\u001b[49m\u001b[43m \u001b[49m\u001b[43mbounds\u001b[49m\u001b[43m,\u001b[49m\u001b[43m \u001b[49m\u001b[43mepsilon\u001b[49m\u001b[38;5;241;43m=\u001b[39;49m\u001b[43mepsilon\u001b[49m\u001b[43m)\u001b[49m\n\u001b[0;32m    291\u001b[0m \u001b[38;5;28;01mreturn\u001b[39;00m sf\n",
      "File \u001b[1;32mc:\\Users\\marti\\anaconda3\\envs\\aidojo\\Lib\\site-packages\\scipy\\optimize\\_differentiable_functions.py:222\u001b[0m, in \u001b[0;36mScalarFunction.__init__\u001b[1;34m(self, fun, x0, args, grad, hess, finite_diff_rel_step, finite_diff_bounds, epsilon)\u001b[0m\n\u001b[0;32m    219\u001b[0m     finite_diff_options[\u001b[38;5;124m\"\u001b[39m\u001b[38;5;124mas_linear_operator\u001b[39m\u001b[38;5;124m\"\u001b[39m] \u001b[38;5;241m=\u001b[39m \u001b[38;5;28;01mTrue\u001b[39;00m\n\u001b[0;32m    221\u001b[0m \u001b[38;5;66;03m# Initial function evaluation\u001b[39;00m\n\u001b[1;32m--> 222\u001b[0m \u001b[38;5;28;43mself\u001b[39;49m\u001b[38;5;241;43m.\u001b[39;49m\u001b[43m_update_fun\u001b[49m\u001b[43m(\u001b[49m\u001b[43m)\u001b[49m\n\u001b[0;32m    224\u001b[0m \u001b[38;5;66;03m# Initial gradient evaluation\u001b[39;00m\n\u001b[0;32m    225\u001b[0m \u001b[38;5;28mself\u001b[39m\u001b[38;5;241m.\u001b[39m_wrapped_grad, \u001b[38;5;28mself\u001b[39m\u001b[38;5;241m.\u001b[39m_ngev \u001b[38;5;241m=\u001b[39m _wrapper_grad(\n\u001b[0;32m    226\u001b[0m     grad,\n\u001b[0;32m    227\u001b[0m     fun\u001b[38;5;241m=\u001b[39m\u001b[38;5;28mself\u001b[39m\u001b[38;5;241m.\u001b[39m_wrapped_fun,\n\u001b[0;32m    228\u001b[0m     args\u001b[38;5;241m=\u001b[39margs,\n\u001b[0;32m    229\u001b[0m     finite_diff_options\u001b[38;5;241m=\u001b[39mfinite_diff_options\n\u001b[0;32m    230\u001b[0m )\n",
      "File \u001b[1;32mc:\\Users\\marti\\anaconda3\\envs\\aidojo\\Lib\\site-packages\\scipy\\optimize\\_differentiable_functions.py:294\u001b[0m, in \u001b[0;36mScalarFunction._update_fun\u001b[1;34m(self)\u001b[0m\n\u001b[0;32m    292\u001b[0m \u001b[38;5;28;01mdef\u001b[39;00m \u001b[38;5;21m_update_fun\u001b[39m(\u001b[38;5;28mself\u001b[39m):\n\u001b[0;32m    293\u001b[0m     \u001b[38;5;28;01mif\u001b[39;00m \u001b[38;5;129;01mnot\u001b[39;00m \u001b[38;5;28mself\u001b[39m\u001b[38;5;241m.\u001b[39mf_updated:\n\u001b[1;32m--> 294\u001b[0m         fx \u001b[38;5;241m=\u001b[39m \u001b[38;5;28;43mself\u001b[39;49m\u001b[38;5;241;43m.\u001b[39;49m\u001b[43m_wrapped_fun\u001b[49m\u001b[43m(\u001b[49m\u001b[38;5;28;43mself\u001b[39;49m\u001b[38;5;241;43m.\u001b[39;49m\u001b[43mx\u001b[49m\u001b[43m)\u001b[49m\n\u001b[0;32m    295\u001b[0m         \u001b[38;5;28;01mif\u001b[39;00m fx \u001b[38;5;241m<\u001b[39m \u001b[38;5;28mself\u001b[39m\u001b[38;5;241m.\u001b[39m_lowest_f:\n\u001b[0;32m    296\u001b[0m             \u001b[38;5;28mself\u001b[39m\u001b[38;5;241m.\u001b[39m_lowest_x \u001b[38;5;241m=\u001b[39m \u001b[38;5;28mself\u001b[39m\u001b[38;5;241m.\u001b[39mx\n",
      "File \u001b[1;32mc:\\Users\\marti\\anaconda3\\envs\\aidojo\\Lib\\site-packages\\scipy\\optimize\\_differentiable_functions.py:20\u001b[0m, in \u001b[0;36m_wrapper_fun.<locals>.wrapped\u001b[1;34m(x)\u001b[0m\n\u001b[0;32m     16\u001b[0m ncalls[\u001b[38;5;241m0\u001b[39m] \u001b[38;5;241m+\u001b[39m\u001b[38;5;241m=\u001b[39m \u001b[38;5;241m1\u001b[39m\n\u001b[0;32m     17\u001b[0m \u001b[38;5;66;03m# Send a copy because the user may overwrite it.\u001b[39;00m\n\u001b[0;32m     18\u001b[0m \u001b[38;5;66;03m# Overwriting results in undefined behaviour because\u001b[39;00m\n\u001b[0;32m     19\u001b[0m \u001b[38;5;66;03m# fun(self.x) will change self.x, with the two no longer linked.\u001b[39;00m\n\u001b[1;32m---> 20\u001b[0m fx \u001b[38;5;241m=\u001b[39m \u001b[43mfun\u001b[49m\u001b[43m(\u001b[49m\u001b[43mnp\u001b[49m\u001b[38;5;241;43m.\u001b[39;49m\u001b[43mcopy\u001b[49m\u001b[43m(\u001b[49m\u001b[43mx\u001b[49m\u001b[43m)\u001b[49m\u001b[43m,\u001b[49m\u001b[43m \u001b[49m\u001b[38;5;241;43m*\u001b[39;49m\u001b[43margs\u001b[49m\u001b[43m)\u001b[49m\n\u001b[0;32m     21\u001b[0m \u001b[38;5;66;03m# Make sure the function returns a true scalar\u001b[39;00m\n\u001b[0;32m     22\u001b[0m \u001b[38;5;28;01mif\u001b[39;00m \u001b[38;5;129;01mnot\u001b[39;00m np\u001b[38;5;241m.\u001b[39misscalar(fx):\n",
      "Cell \u001b[1;32mIn[42], line 14\u001b[0m, in \u001b[0;36mnegative_log_likelihood\u001b[1;34m(params)\u001b[0m\n\u001b[0;32m     11\u001b[0m k, lam \u001b[38;5;241m=\u001b[39m params\n\u001b[0;32m     13\u001b[0m \u001b[38;5;66;03m# Log-věrohodnost necenzurovaných dat\u001b[39;00m\n\u001b[1;32m---> 14\u001b[0m uncensored_loglik \u001b[38;5;241m=\u001b[39m \u001b[43mvalues\u001b[49m\u001b[43m[\u001b[49m\u001b[38;5;241;43m~\u001b[39;49m\u001b[43mcensored\u001b[49m\u001b[43m]\u001b[49m\u001b[43m \u001b[49m\u001b[38;5;241;43m*\u001b[39;49m\u001b[43m \u001b[49m\u001b[43m(\u001b[49m\u001b[38;5;241;43m1\u001b[39;49m\u001b[43m \u001b[49m\u001b[38;5;241;43m-\u001b[39;49m\u001b[43m \u001b[49m\u001b[43mnp\u001b[49m\u001b[38;5;241;43m.\u001b[39;49m\u001b[43mlog\u001b[49m\u001b[43m(\u001b[49m\u001b[43m(\u001b[49m\u001b[43mk\u001b[49m\u001b[38;5;241;43m/\u001b[39;49m\u001b[43mlam\u001b[49m\u001b[43m)\u001b[49m\u001b[43m \u001b[49m\u001b[38;5;241;43m*\u001b[39;49m\u001b[43m \u001b[49m\u001b[43m(\u001b[49m\u001b[43mx\u001b[49m\u001b[38;5;241;43m/\u001b[39;49m\u001b[43mlam\u001b[49m\u001b[43m)\u001b[49m\u001b[43m \u001b[49m\u001b[38;5;241;43m*\u001b[39;49m\u001b[38;5;241;43m*\u001b[39;49m\u001b[43m \u001b[49m\u001b[43m(\u001b[49m\u001b[43mk\u001b[49m\u001b[38;5;241;43m-\u001b[39;49m\u001b[38;5;241;43m1\u001b[39;49m\u001b[43m)\u001b[49m\u001b[43m \u001b[49m\u001b[38;5;241;43m*\u001b[39;49m\u001b[43m \u001b[49m\u001b[43mnp\u001b[49m\u001b[38;5;241;43m.\u001b[39;49m\u001b[43mexp\u001b[49m\u001b[43m(\u001b[49m\u001b[38;5;241;43m-\u001b[39;49m\u001b[43m(\u001b[49m\u001b[43mx\u001b[49m\u001b[38;5;241;43m/\u001b[39;49m\u001b[43mlam\u001b[49m\u001b[43m)\u001b[49m\u001b[38;5;241;43m*\u001b[39;49m\u001b[38;5;241;43m*\u001b[39;49m\u001b[43mk\u001b[49m\u001b[43m)\u001b[49m\u001b[43m \u001b[49m\u001b[43m)\u001b[49m\u001b[43m)\u001b[49m\n\u001b[0;32m     15\u001b[0m \u001b[38;5;66;03m#uncensored_loglik = np.log((k / lam) * (values[~censored] / lam) ** (k - 1) *\u001b[39;00m\n\u001b[0;32m     16\u001b[0m \u001b[38;5;66;03m#                           np.exp(-(values[~censored] / lam) ** k))\u001b[39;00m\n\u001b[0;32m     17\u001b[0m \n\u001b[0;32m     18\u001b[0m \u001b[38;5;66;03m# Log-věrohodnost cenzurovaných dat\u001b[39;00m\n\u001b[0;32m     19\u001b[0m censored_loglik \u001b[38;5;241m=\u001b[39m values[censored] \u001b[38;5;241m*\u001b[39m (np\u001b[38;5;241m.\u001b[39mlog(k) \u001b[38;5;241m-\u001b[39m np\u001b[38;5;241m.\u001b[39mlog(lam) \u001b[38;5;241m*\u001b[39m k \u001b[38;5;241m+\u001b[39m (k\u001b[38;5;241m-\u001b[39m\u001b[38;5;241m1\u001b[39m) \u001b[38;5;241m*\u001b[39m np\u001b[38;5;241m.\u001b[39mlog(x) \u001b[38;5;241m-\u001b[39m (x\u001b[38;5;241m/\u001b[39mlam) \u001b[38;5;241m*\u001b[39m\u001b[38;5;241m*\u001b[39mk)\n",
      "\u001b[1;31mValueError\u001b[0m: operands could not be broadcast together with shapes (321,) (9,) "
     ]
    }
   ],
   "source": [
    "import numpy as np\n",
    "from scipy.optimize import minimize\n",
    "\n",
    "values = df['doba práce v oboru [roky]'].values\n",
    "\n",
    "# 0 = failed, 1 = right censored\n",
    "censored = df['censored'].values\n",
    "\n",
    "# Definice negativní log-věrohodnostní funkce s cenzurou\n",
    "def negative_log_likelihood(params):\n",
    "    k, lam = params\n",
    "\n",
    "    # Log-věrohodnost necenzurovaných dat\n",
    "    uncensored_loglik = values[~censored] * (1 - np.log((k/lam) * (x/lam) ** (k-1) * np.exp(-(x/lam)**k) ))\n",
    "    #uncensored_loglik = np.log((k / lam) * (values[~censored] / lam) ** (k - 1) *\n",
    "    #                           np.exp(-(values[~censored] / lam) ** k))\n",
    "\n",
    "    # Log-věrohodnost cenzurovaných dat\n",
    "    censored_loglik = values[censored] * (np.log(k) - np.log(lam) * k + (k-1) * np.log(x) - (x/lam) **k)\n",
    "    #censored_loglik = np.log(1 - np.exp(-(values[censored] / lam) ** k))\n",
    "\n",
    "    # Celková negativní log-věrohodnost\n",
    "    nll = -(np.sum(uncensored_loglik) + np.sum(censored_loglik))\n",
    "    return nll\n",
    "\n",
    "# Počáteční odhady parametrů\n",
    "initial_guess = [1.0, 1.0]\n",
    "\n",
    "# Optimalizace\n",
    "result = minimize(negative_log_likelihood, initial_guess, method=\"L-BFGS-B\", bounds=[(1e-6, None), (1e-6, None)])\n",
    "\n",
    "# Výsledné odhady\n",
    "k_mle, lambda_mle = result.x\n",
    "print(f\"Odhadnuté parametry: k = {k_mle:.4f}, lambda = {lambda_mle:.4f}\")\n"
   ]
  },
  {
   "cell_type": "code",
   "execution_count": 43,
   "metadata": {},
   "outputs": [
    {
     "name": "stdout",
     "output_type": "stream",
     "text": [
      "Odhadnuté parametry: k = 9.2078, lambda = 6.1292\n"
     ]
    }
   ],
   "source": [
    "import numpy as np\n",
    "from scipy.optimize import minimize\n",
    "from scipy.stats import weibull_min\n",
    "\n",
    "values = df['doba práce v oboru [roky]'].values\n",
    "\n",
    "# 0 = failed, 1 = right censored\n",
    "censored = df['censored'].values\n",
    "\n",
    "\n",
    "# Definice negativní log-věrohodnostní funkce s cenzurou\n",
    "def negative_log_likelihood(params):\n",
    "    k, lam = params\n",
    "    if k <= 0 or lam <= 0:  # parametry musí být kladné\n",
    "        return np.inf\n",
    "\n",
    "    # Log-věrohodnost necenzurovaných dat\n",
    "    uncensored_loglik = np.log((k / lam) * (values[~censored] / lam) ** (k - 1) *\n",
    "                               np.exp(-(values[~censored] / lam) ** k))\n",
    "\n",
    "    # Log-věrohodnost cenzurovaných dat\n",
    "    censored_loglik = np.log(1 - np.exp(-(values[censored] / lam) ** k))\n",
    "\n",
    "    # Celková negativní log-věrohodnost\n",
    "    nll = -(np.sum(uncensored_loglik) + np.sum(censored_loglik))\n",
    "    return nll\n",
    "\n",
    "# Počáteční odhady parametrů\n",
    "initial_guess = [1.0, 1.0]\n",
    "\n",
    "# Optimalizace\n",
    "result = minimize(negative_log_likelihood, initial_guess, method=\"L-BFGS-B\", bounds=[(1e-6, None), (1e-6, None)])\n",
    "\n",
    "# Výsledné odhady\n",
    "k_mle, lambda_mle = result.x\n",
    "print(f\"Odhadnuté parametry: k = {k_mle:.4f}, lambda = {lambda_mle:.4f}\")\n"
   ]
  },
  {
   "cell_type": "code",
   "execution_count": null,
   "metadata": {},
   "outputs": [],
   "source": [
    "from scipy.optimize import minimize\n",
    "\n",
    "def shapeDeriv():\n",
    "    n/k - n * np.log(lamb) + np.sum(np.log(x)) - np.sum(np.log(x) - np.log(lamb)*((x/lamb)**k))\n",
    "\n",
    "# Define the log-likelihood function\n",
    "def log_likelihood(params, x, censored):\n",
    "    k, lambda_ = params\n",
    "    return np.sum(np.log(k) + (k-1) * np.log(x/lambda_) - (x/lambda_)**k) - np.sum((x/lambda_)**k * censored)\n",
    "\n",
    "# Define the objective function\n",
    "def objective(params, x, censored):\n",
    "    return -log_likelihood(params, x, censored)\n",
    "\n",
    "# Load the data\n",
    "x = df['doba práce v oboru [roky]'].values\n",
    "censored = df['censored'].values\n",
    "\n",
    "# Initial guess for the shape and scale parameters\n",
    "k0 = 1\n",
    "lambda0 = 1\n",
    "\n",
    "# Solve the system of equations using the minimize function from scipy\n",
    "sol = minimize(objective, [k0, lambda0], args=(x, censored))\n",
    "\n",
    "print(\"Shape parameter:\", sol.x[0])\n",
    "print(\"Scale parameter:\", sol.x[1])"
   ]
  },
  {
   "cell_type": "code",
   "execution_count": 34,
   "metadata": {},
   "outputs": [
    {
     "name": "stdout",
     "output_type": "stream",
     "text": [
      "Shape parameter: 6.094172961152544\n",
      "Scale parameter: 7.590159395476218\n"
     ]
    }
   ],
   "source": [
    "from scipy.optimize import minimize\n",
    "\n",
    "# Define the log-likelihood function\n",
    "def log_likelihood(params, x, censored):\n",
    "    k, lambda_ = params\n",
    "    return np.sum(np.log(k) + (k-1) * np.log(x/lambda_) - (x/lambda_)**k) - np.sum((x/lambda_)**k * censored)\n",
    "\n",
    "# Define the objective function\n",
    "def objective(params, x, censored):\n",
    "    return -log_likelihood(params, x, censored)\n",
    "\n",
    "# Load the data\n",
    "x = df['doba práce v oboru [roky]'].values\n",
    "censored = df['censored'].values\n",
    "\n",
    "# Initial guess for the shape and scale parameters\n",
    "k0 = 1\n",
    "lambda0 = 1\n",
    "\n",
    "# Solve the system of equations using the minimize function from scipy\n",
    "sol = minimize(objective, [k0, lambda0], args=(x, censored))\n",
    "\n",
    "print(\"Shape parameter:\", sol.x[0])\n",
    "print(\"Scale parameter:\", sol.x[1])"
   ]
  },
  {
   "cell_type": "markdown",
   "metadata": {},
   "source": []
  },
  {
   "cell_type": "code",
   "execution_count": 12,
   "metadata": {},
   "outputs": [],
   "source": [
    "# shape derivative\n",
    "# np.log is ln\n",
    "def shape(x, n, k, lamb):\n",
    "    shape = (n/k) - n*np.log(lamb) + sum(np.log(x[i])) - sum((np.log(x[i]) - np.log(lamb)) * (x[i]/lamb)^k)\n",
    "# scale derivative"
   ]
  },
  {
   "cell_type": "code",
   "execution_count": 11,
   "metadata": {},
   "outputs": [
    {
     "ename": "ValueError",
     "evalue": "'x0' must only have one dimension.",
     "output_type": "error",
     "traceback": [
      "\u001b[1;31m---------------------------------------------------------------------------\u001b[0m",
      "\u001b[1;31mValueError\u001b[0m                                Traceback (most recent call last)",
      "Cell \u001b[1;32mIn[11], line 2\u001b[0m\n\u001b[0;32m      1\u001b[0m \u001b[38;5;66;03m# TODO read: https://real-statistics.com/distribution-fitting/distribution-fitting-via-maximum-likelihood/weibull-censored-data/\u001b[39;00m\n\u001b[1;32m----> 2\u001b[0m \u001b[43moptimize\u001b[49m\u001b[38;5;241;43m.\u001b[39;49m\u001b[43mminimize\u001b[49m\u001b[43m(\u001b[49m\u001b[43mshape\u001b[49m\u001b[43m,\u001b[49m\u001b[43m \u001b[49m\u001b[43mdf\u001b[49m\u001b[43m)\u001b[49m\n",
      "File \u001b[1;32mc:\\Users\\marti\\anaconda3\\envs\\aidojo\\Lib\\site-packages\\scipy\\optimize\\_minimize.py:550\u001b[0m, in \u001b[0;36mminimize\u001b[1;34m(fun, x0, args, method, jac, hess, hessp, bounds, constraints, tol, callback, options)\u001b[0m\n\u001b[0;32m    547\u001b[0m x0 \u001b[38;5;241m=\u001b[39m np\u001b[38;5;241m.\u001b[39matleast_1d(np\u001b[38;5;241m.\u001b[39masarray(x0))\n\u001b[0;32m    549\u001b[0m \u001b[38;5;28;01mif\u001b[39;00m x0\u001b[38;5;241m.\u001b[39mndim \u001b[38;5;241m!=\u001b[39m \u001b[38;5;241m1\u001b[39m:\n\u001b[1;32m--> 550\u001b[0m     \u001b[38;5;28;01mraise\u001b[39;00m \u001b[38;5;167;01mValueError\u001b[39;00m(\u001b[38;5;124m\"\u001b[39m\u001b[38;5;124m'\u001b[39m\u001b[38;5;124mx0\u001b[39m\u001b[38;5;124m'\u001b[39m\u001b[38;5;124m must only have one dimension.\u001b[39m\u001b[38;5;124m\"\u001b[39m)\n\u001b[0;32m    552\u001b[0m \u001b[38;5;28;01mif\u001b[39;00m x0\u001b[38;5;241m.\u001b[39mdtype\u001b[38;5;241m.\u001b[39mkind \u001b[38;5;129;01min\u001b[39;00m np\u001b[38;5;241m.\u001b[39mtypecodes[\u001b[38;5;124m\"\u001b[39m\u001b[38;5;124mAllInteger\u001b[39m\u001b[38;5;124m\"\u001b[39m]:\n\u001b[0;32m    553\u001b[0m     x0 \u001b[38;5;241m=\u001b[39m np\u001b[38;5;241m.\u001b[39masarray(x0, dtype\u001b[38;5;241m=\u001b[39m\u001b[38;5;28mfloat\u001b[39m)\n",
      "\u001b[1;31mValueError\u001b[0m: 'x0' must only have one dimension."
     ]
    }
   ],
   "source": [
    "# TODO read: https://real-statistics.com/distribution-fitting/distribution-fitting-via-maximum-likelihood/weibull-censored-data/\n",
    "optimize.minimize(shape, df)"
   ]
  },
  {
   "cell_type": "code",
   "execution_count": 19,
   "metadata": {},
   "outputs": [
    {
     "ename": "ValueError",
     "evalue": "_slsqp._slsqp.slsqp: failed to create array from the 8th argument `g` -- 0-th dimension must be fixed to 3 but got 643",
     "output_type": "error",
     "traceback": [
      "\u001b[1;31m---------------------------------------------------------------------------\u001b[0m",
      "\u001b[1;31mValueError\u001b[0m                                Traceback (most recent call last)",
      "Cell \u001b[1;32mIn[19], line 28\u001b[0m\n\u001b[0;32m     25\u001b[0m params0 \u001b[38;5;241m=\u001b[39m np\u001b[38;5;241m.\u001b[39marray([\u001b[38;5;241m1\u001b[39m, \u001b[38;5;241m1\u001b[39m])\n\u001b[0;32m     27\u001b[0m \u001b[38;5;66;03m# Minimizujte negativní logaritmickou-věrohodnostní funkci\u001b[39;00m\n\u001b[1;32m---> 28\u001b[0m res \u001b[38;5;241m=\u001b[39m \u001b[43mminimize\u001b[49m\u001b[43m(\u001b[49m\u001b[43mobjective\u001b[49m\u001b[43m,\u001b[49m\u001b[43m \u001b[49m\u001b[43mparams0\u001b[49m\u001b[43m,\u001b[49m\u001b[43m \u001b[49m\u001b[43margs\u001b[49m\u001b[38;5;241;43m=\u001b[39;49m\u001b[43m(\u001b[49m\u001b[43mx\u001b[49m\u001b[43m,\u001b[49m\u001b[43m \u001b[49m\u001b[43mcensored\u001b[49m\u001b[43m)\u001b[49m\u001b[43m,\u001b[49m\u001b[43m \u001b[49m\u001b[43mmethod\u001b[49m\u001b[38;5;241;43m=\u001b[39;49m\u001b[38;5;124;43m'\u001b[39;49m\u001b[38;5;124;43mSLSQP\u001b[39;49m\u001b[38;5;124;43m'\u001b[39;49m\u001b[43m,\u001b[49m\u001b[43m \u001b[49m\u001b[43mjac\u001b[49m\u001b[38;5;241;43m=\u001b[39;49m\u001b[43mgradient\u001b[49m\u001b[43m)\u001b[49m\n\u001b[0;32m     30\u001b[0m \u001b[38;5;66;03m# Vypište maximálně věrohodné odhady parametrů\u001b[39;00m\n\u001b[0;32m     31\u001b[0m \u001b[38;5;28mprint\u001b[39m(res\u001b[38;5;241m.\u001b[39mx)\n",
      "File \u001b[1;32mc:\\Users\\marti\\anaconda3\\envs\\aidojo\\Lib\\site-packages\\scipy\\optimize\\_minimize.py:743\u001b[0m, in \u001b[0;36mminimize\u001b[1;34m(fun, x0, args, method, jac, hess, hessp, bounds, constraints, tol, callback, options)\u001b[0m\n\u001b[0;32m    740\u001b[0m     res \u001b[38;5;241m=\u001b[39m _minimize_cobyqa(fun, x0, args, bounds, constraints, callback,\n\u001b[0;32m    741\u001b[0m                            \u001b[38;5;241m*\u001b[39m\u001b[38;5;241m*\u001b[39moptions)\n\u001b[0;32m    742\u001b[0m \u001b[38;5;28;01melif\u001b[39;00m meth \u001b[38;5;241m==\u001b[39m \u001b[38;5;124m'\u001b[39m\u001b[38;5;124mslsqp\u001b[39m\u001b[38;5;124m'\u001b[39m:\n\u001b[1;32m--> 743\u001b[0m     res \u001b[38;5;241m=\u001b[39m \u001b[43m_minimize_slsqp\u001b[49m\u001b[43m(\u001b[49m\u001b[43mfun\u001b[49m\u001b[43m,\u001b[49m\u001b[43m \u001b[49m\u001b[43mx0\u001b[49m\u001b[43m,\u001b[49m\u001b[43m \u001b[49m\u001b[43margs\u001b[49m\u001b[43m,\u001b[49m\u001b[43m \u001b[49m\u001b[43mjac\u001b[49m\u001b[43m,\u001b[49m\u001b[43m \u001b[49m\u001b[43mbounds\u001b[49m\u001b[43m,\u001b[49m\n\u001b[0;32m    744\u001b[0m \u001b[43m                          \u001b[49m\u001b[43mconstraints\u001b[49m\u001b[43m,\u001b[49m\u001b[43m \u001b[49m\u001b[43mcallback\u001b[49m\u001b[38;5;241;43m=\u001b[39;49m\u001b[43mcallback\u001b[49m\u001b[43m,\u001b[49m\u001b[43m \u001b[49m\u001b[38;5;241;43m*\u001b[39;49m\u001b[38;5;241;43m*\u001b[39;49m\u001b[43moptions\u001b[49m\u001b[43m)\u001b[49m\n\u001b[0;32m    745\u001b[0m \u001b[38;5;28;01melif\u001b[39;00m meth \u001b[38;5;241m==\u001b[39m \u001b[38;5;124m'\u001b[39m\u001b[38;5;124mtrust-constr\u001b[39m\u001b[38;5;124m'\u001b[39m:\n\u001b[0;32m    746\u001b[0m     res \u001b[38;5;241m=\u001b[39m _minimize_trustregion_constr(fun, x0, args, jac, hess, hessp,\n\u001b[0;32m    747\u001b[0m                                        bounds, constraints,\n\u001b[0;32m    748\u001b[0m                                        callback\u001b[38;5;241m=\u001b[39mcallback, \u001b[38;5;241m*\u001b[39m\u001b[38;5;241m*\u001b[39moptions)\n",
      "File \u001b[1;32mc:\\Users\\marti\\anaconda3\\envs\\aidojo\\Lib\\site-packages\\scipy\\optimize\\_slsqp_py.py:428\u001b[0m, in \u001b[0;36m_minimize_slsqp\u001b[1;34m(func, x0, args, jac, bounds, constraints, maxiter, ftol, iprint, disp, eps, callback, finite_diff_rel_step, **unknown_options)\u001b[0m\n\u001b[0;32m    424\u001b[0m a \u001b[38;5;241m=\u001b[39m _eval_con_normals(x, cons, la, n, m, meq, mieq)\n\u001b[0;32m    426\u001b[0m \u001b[38;5;28;01mwhile\u001b[39;00m \u001b[38;5;241m1\u001b[39m:\n\u001b[0;32m    427\u001b[0m     \u001b[38;5;66;03m# Call SLSQP\u001b[39;00m\n\u001b[1;32m--> 428\u001b[0m     \u001b[43mslsqp\u001b[49m\u001b[43m(\u001b[49m\u001b[43mm\u001b[49m\u001b[43m,\u001b[49m\u001b[43m \u001b[49m\u001b[43mmeq\u001b[49m\u001b[43m,\u001b[49m\u001b[43m \u001b[49m\u001b[43mx\u001b[49m\u001b[43m,\u001b[49m\u001b[43m \u001b[49m\u001b[43mxl\u001b[49m\u001b[43m,\u001b[49m\u001b[43m \u001b[49m\u001b[43mxu\u001b[49m\u001b[43m,\u001b[49m\u001b[43m \u001b[49m\u001b[43mfx\u001b[49m\u001b[43m,\u001b[49m\u001b[43m \u001b[49m\u001b[43mc\u001b[49m\u001b[43m,\u001b[49m\u001b[43m \u001b[49m\u001b[43mg\u001b[49m\u001b[43m,\u001b[49m\u001b[43m \u001b[49m\u001b[43ma\u001b[49m\u001b[43m,\u001b[49m\u001b[43m \u001b[49m\u001b[43macc\u001b[49m\u001b[43m,\u001b[49m\u001b[43m \u001b[49m\u001b[43mmajiter\u001b[49m\u001b[43m,\u001b[49m\u001b[43m \u001b[49m\u001b[43mmode\u001b[49m\u001b[43m,\u001b[49m\u001b[43m \u001b[49m\u001b[43mw\u001b[49m\u001b[43m,\u001b[49m\u001b[43m \u001b[49m\u001b[43mjw\u001b[49m\u001b[43m,\u001b[49m\n\u001b[0;32m    429\u001b[0m \u001b[43m          \u001b[49m\u001b[43malpha\u001b[49m\u001b[43m,\u001b[49m\u001b[43m \u001b[49m\u001b[43mf0\u001b[49m\u001b[43m,\u001b[49m\u001b[43m \u001b[49m\u001b[43mgs\u001b[49m\u001b[43m,\u001b[49m\u001b[43m \u001b[49m\u001b[43mh1\u001b[49m\u001b[43m,\u001b[49m\u001b[43m \u001b[49m\u001b[43mh2\u001b[49m\u001b[43m,\u001b[49m\u001b[43m \u001b[49m\u001b[43mh3\u001b[49m\u001b[43m,\u001b[49m\u001b[43m \u001b[49m\u001b[43mh4\u001b[49m\u001b[43m,\u001b[49m\u001b[43m \u001b[49m\u001b[43mt\u001b[49m\u001b[43m,\u001b[49m\u001b[43m \u001b[49m\u001b[43mt0\u001b[49m\u001b[43m,\u001b[49m\u001b[43m \u001b[49m\u001b[43mtol\u001b[49m\u001b[43m,\u001b[49m\n\u001b[0;32m    430\u001b[0m \u001b[43m          \u001b[49m\u001b[43miexact\u001b[49m\u001b[43m,\u001b[49m\u001b[43m \u001b[49m\u001b[43mincons\u001b[49m\u001b[43m,\u001b[49m\u001b[43m \u001b[49m\u001b[43mireset\u001b[49m\u001b[43m,\u001b[49m\u001b[43m \u001b[49m\u001b[43mitermx\u001b[49m\u001b[43m,\u001b[49m\u001b[43m \u001b[49m\u001b[43mline\u001b[49m\u001b[43m,\u001b[49m\n\u001b[0;32m    431\u001b[0m \u001b[43m          \u001b[49m\u001b[43mn1\u001b[49m\u001b[43m,\u001b[49m\u001b[43m \u001b[49m\u001b[43mn2\u001b[49m\u001b[43m,\u001b[49m\u001b[43m \u001b[49m\u001b[43mn3\u001b[49m\u001b[43m)\u001b[49m\n\u001b[0;32m    433\u001b[0m     \u001b[38;5;28;01mif\u001b[39;00m mode \u001b[38;5;241m==\u001b[39m \u001b[38;5;241m1\u001b[39m:  \u001b[38;5;66;03m# objective and constraint evaluation required\u001b[39;00m\n\u001b[0;32m    434\u001b[0m         fx \u001b[38;5;241m=\u001b[39m wrapped_fun(x)\n",
      "\u001b[1;31mValueError\u001b[0m: _slsqp._slsqp.slsqp: failed to create array from the 8th argument `g` -- 0-th dimension must be fixed to 3 but got 643"
     ]
    }
   ],
   "source": [
    "import numpy as np\n",
    "from scipy.optimize import minimize\n",
    "\n",
    "def log_likelihood(params, x, censored):\n",
    "    k, lambda_ = params\n",
    "    return -np.sum(np.log(k/lambda_) + (k-1) * np.log(x/lambda_) - (x/lambda_)**k) - np.sum((x/lambda_)**k * censored)\n",
    "\n",
    "def gradient(params, x, censored):\n",
    "    k, lambda_ = params\n",
    "    dLdk = np.sum(1/k + np.log(x/lambda_)) + np.sum(-(x/lambda_)**k * np.log(x/lambda_)) * censored\n",
    "    dLdlambda = np.sum(-1/lambda_ + (k/lambda_) * (x/lambda_)**(k-1)) + np.sum((k/lambda_) * (x/lambda_)**(k-1)) * censored\n",
    "    return np.array([dLdk, dLdlambda])\n",
    "\n",
    "def objective(params, x, censored):\n",
    "    return log_likelihood(params, x, censored)\n",
    "\n",
    "# Načtěte data z Excelového souboru\n",
    "import pandas as pd\n",
    "data = pd.read_excel('Data_2024.xlsx', sheet_name='Data_věrohodnost')\n",
    "\n",
    "x = df['doba práce v oboru [roky]'].values\n",
    "censored = df['censored'].values\n",
    "\n",
    "# Definujte počáteční odhady parametrů\n",
    "params0 = np.array([1, 1])\n",
    "\n",
    "# Minimizujte negativní logaritmickou-věrohodnostní funkci\n",
    "res = minimize(objective, params0, args=(x, censored), method='SLSQP', jac=gradient)\n",
    "\n",
    "# Vypište maximálně věrohodné odhady parametrů\n",
    "print(res.x)"
   ]
  },
  {
   "cell_type": "code",
   "execution_count": 17,
   "metadata": {},
   "outputs": [
    {
     "name": "stdout",
     "output_type": "stream",
     "text": [
      "Maximálně věrohodné odhady: shape=1.564, scale=4.546\n"
     ]
    }
   ],
   "source": [
    "x = df[\"doba práce v oboru [roky]\"].values\n",
    "d = df[\"censored\"].values\n",
    "\n",
    "def neg_log_likelihood(params, x, d):\n",
    "    a, b = params\n",
    "    u = x / b\n",
    "    ll = -np.sum(d * (np.log(a/b) + (a-1)*np.log(u) - u*a) + (1-d) * np.log(1 - np.exp(-u*a)))\n",
    "    return ll\n",
    "\n",
    "res = scipy.optimize.minimize(neg_log_likelihood, x0=(1, 1), args=(x, d), method='Nelder-Mead')\n",
    "a_hat, b_hat = res.x\n",
    "\n",
    "print(f\"Maximálně věrohodné odhady: shape={a_hat:.3f}, scale={b_hat:.3f}\")"
   ]
  },
  {
   "cell_type": "code",
   "execution_count": 13,
   "metadata": {},
   "outputs": [
    {
     "ename": "TypeError",
     "evalue": "_parse_args() missing 1 required positional argument: 'c'",
     "output_type": "error",
     "traceback": [
      "\u001b[1;31m---------------------------------------------------------------------------\u001b[0m",
      "\u001b[1;31mTypeError\u001b[0m                                 Traceback (most recent call last)",
      "Cell \u001b[1;32mIn[13], line 1\u001b[0m\n\u001b[1;32m----> 1\u001b[0m res \u001b[38;5;241m=\u001b[39m \u001b[43mscipy\u001b[49m\u001b[38;5;241;43m.\u001b[39;49m\u001b[43mstats\u001b[49m\u001b[38;5;241;43m.\u001b[39;49m\u001b[43mweibull_min\u001b[49m\u001b[38;5;241;43m.\u001b[39;49m\u001b[43msf\u001b[49m\u001b[43m(\u001b[49m\u001b[43mdf\u001b[49m\u001b[43m)\u001b[49m\n\u001b[0;32m      2\u001b[0m \u001b[38;5;28mprint\u001b[39m(res)\n",
      "File \u001b[1;32mc:\\Users\\marti\\anaconda3\\envs\\aidojo\\Lib\\site-packages\\scipy\\stats\\_distn_infrastructure.py:2188\u001b[0m, in \u001b[0;36mrv_continuous.sf\u001b[1;34m(self, x, *args, **kwds)\u001b[0m\n\u001b[0;32m   2167\u001b[0m \u001b[38;5;28;01mdef\u001b[39;00m \u001b[38;5;21msf\u001b[39m(\u001b[38;5;28mself\u001b[39m, x, \u001b[38;5;241m*\u001b[39margs, \u001b[38;5;241m*\u001b[39m\u001b[38;5;241m*\u001b[39mkwds):\n\u001b[0;32m   2168\u001b[0m \u001b[38;5;250m    \u001b[39m\u001b[38;5;124;03m\"\"\"Survival function (1 - `cdf`) at x of the given RV.\u001b[39;00m\n\u001b[0;32m   2169\u001b[0m \n\u001b[0;32m   2170\u001b[0m \u001b[38;5;124;03m    Parameters\u001b[39;00m\n\u001b[1;32m   (...)\u001b[0m\n\u001b[0;32m   2186\u001b[0m \n\u001b[0;32m   2187\u001b[0m \u001b[38;5;124;03m    \"\"\"\u001b[39;00m\n\u001b[1;32m-> 2188\u001b[0m     args, loc, scale \u001b[38;5;241m=\u001b[39m \u001b[38;5;28;43mself\u001b[39;49m\u001b[38;5;241;43m.\u001b[39;49m\u001b[43m_parse_args\u001b[49m\u001b[43m(\u001b[49m\u001b[38;5;241;43m*\u001b[39;49m\u001b[43margs\u001b[49m\u001b[43m,\u001b[49m\u001b[43m \u001b[49m\u001b[38;5;241;43m*\u001b[39;49m\u001b[38;5;241;43m*\u001b[39;49m\u001b[43mkwds\u001b[49m\u001b[43m)\u001b[49m\n\u001b[0;32m   2189\u001b[0m     x, loc, scale \u001b[38;5;241m=\u001b[39m \u001b[38;5;28mmap\u001b[39m(asarray, (x, loc, scale))\n\u001b[0;32m   2190\u001b[0m     args \u001b[38;5;241m=\u001b[39m \u001b[38;5;28mtuple\u001b[39m(\u001b[38;5;28mmap\u001b[39m(asarray, args))\n",
      "\u001b[1;31mTypeError\u001b[0m: _parse_args() missing 1 required positional argument: 'c'"
     ]
    }
   ],
   "source": [
    "res = scipy.stats.weibull_min.sf(df)\n",
    "print(res)"
   ]
  },
  {
   "cell_type": "code",
   "execution_count": 14,
   "metadata": {},
   "outputs": [
    {
     "name": "stdout",
     "output_type": "stream",
     "text": [
      "<scipy.stats._distn_infrastructure.rv_continuous_frozen object at 0x000001D870ADC440>\n"
     ]
    }
   ],
   "source": [
    "res = scipy.stats.weibull_min(df['doba práce v oboru [roky]'])\n",
    "print(res)"
   ]
  },
  {
   "cell_type": "code",
   "execution_count": null,
   "metadata": {},
   "outputs": [
    {
     "name": "stdout",
     "output_type": "stream",
     "text": [
      "shape: 1.0\n",
      "scale: 1.05\n"
     ]
    }
   ],
   "source": [
    "# https://stackoverflow.com/questions/17481672/fitting-a-weibull-distribution-using-scipy\n",
    "params = scipy.stats.exponweib.fit(df['doba práce v oboru [roky]'], floc=0, f0=1)\n",
    "shape = params[1]\n",
    "scale = params[3]\n",
    "print ('shape:',shape)\n",
    "print ('scale:',scale)"
   ]
  },
  {
   "cell_type": "code",
   "execution_count": null,
   "metadata": {},
   "outputs": [
    {
     "ename": "KeyError",
     "evalue": "'x'",
     "output_type": "error",
     "traceback": [
      "\u001b[1;31m---------------------------------------------------------------------------\u001b[0m",
      "\u001b[1;31mKeyError\u001b[0m                                  Traceback (most recent call last)",
      "File \u001b[1;32mc:\\Users\\marti\\anaconda3\\envs\\aidojo\\Lib\\site-packages\\pandas\\core\\indexes\\base.py:3805\u001b[0m, in \u001b[0;36mIndex.get_loc\u001b[1;34m(self, key)\u001b[0m\n\u001b[0;32m   3804\u001b[0m \u001b[38;5;28;01mtry\u001b[39;00m:\n\u001b[1;32m-> 3805\u001b[0m     \u001b[38;5;28;01mreturn\u001b[39;00m \u001b[38;5;28;43mself\u001b[39;49m\u001b[38;5;241;43m.\u001b[39;49m\u001b[43m_engine\u001b[49m\u001b[38;5;241;43m.\u001b[39;49m\u001b[43mget_loc\u001b[49m\u001b[43m(\u001b[49m\u001b[43mcasted_key\u001b[49m\u001b[43m)\u001b[49m\n\u001b[0;32m   3806\u001b[0m \u001b[38;5;28;01mexcept\u001b[39;00m \u001b[38;5;167;01mKeyError\u001b[39;00m \u001b[38;5;28;01mas\u001b[39;00m err:\n",
      "File \u001b[1;32mindex.pyx:167\u001b[0m, in \u001b[0;36mpandas._libs.index.IndexEngine.get_loc\u001b[1;34m()\u001b[0m\n",
      "File \u001b[1;32mindex.pyx:196\u001b[0m, in \u001b[0;36mpandas._libs.index.IndexEngine.get_loc\u001b[1;34m()\u001b[0m\n",
      "File \u001b[1;32mpandas\\\\_libs\\\\hashtable_class_helper.pxi:7081\u001b[0m, in \u001b[0;36mpandas._libs.hashtable.PyObjectHashTable.get_item\u001b[1;34m()\u001b[0m\n",
      "File \u001b[1;32mpandas\\\\_libs\\\\hashtable_class_helper.pxi:7089\u001b[0m, in \u001b[0;36mpandas._libs.hashtable.PyObjectHashTable.get_item\u001b[1;34m()\u001b[0m\n",
      "\u001b[1;31mKeyError\u001b[0m: 'x'",
      "\nThe above exception was the direct cause of the following exception:\n",
      "\u001b[1;31mKeyError\u001b[0m                                  Traceback (most recent call last)",
      "Cell \u001b[1;32mIn[43], line 27\u001b[0m\n\u001b[0;32m     24\u001b[0m initial_params \u001b[38;5;241m=\u001b[39m [\u001b[38;5;241m1\u001b[39m, \u001b[38;5;241m1\u001b[39m]  \u001b[38;5;66;03m# Shape, scale\u001b[39;00m\n\u001b[0;32m     26\u001b[0m \u001b[38;5;66;03m# Minimize the negative log-likelihood\u001b[39;00m\n\u001b[1;32m---> 27\u001b[0m result \u001b[38;5;241m=\u001b[39m minimize(weibull_loglik, initial_params, args\u001b[38;5;241m=\u001b[39m(\u001b[43mdata\u001b[49m\u001b[43m[\u001b[49m\u001b[38;5;124;43m'\u001b[39;49m\u001b[38;5;124;43mx\u001b[39;49m\u001b[38;5;124;43m'\u001b[39;49m\u001b[43m]\u001b[49m, data[\u001b[38;5;124m'\u001b[39m\u001b[38;5;124mevent\u001b[39m\u001b[38;5;124m'\u001b[39m]), bounds\u001b[38;5;241m=\u001b[39m[(\u001b[38;5;241m0.001\u001b[39m, \u001b[38;5;28;01mNone\u001b[39;00m), (\u001b[38;5;241m0.001\u001b[39m, \u001b[38;5;28;01mNone\u001b[39;00m)]) \u001b[38;5;66;03m# positive constraints on shape and scale.\u001b[39;00m\n\u001b[0;32m     29\u001b[0m \u001b[38;5;66;03m# Extract estimated parameters\u001b[39;00m\n\u001b[0;32m     30\u001b[0m shape_est, scale_est \u001b[38;5;241m=\u001b[39m result\u001b[38;5;241m.\u001b[39mx\n",
      "File \u001b[1;32mc:\\Users\\marti\\anaconda3\\envs\\aidojo\\Lib\\site-packages\\pandas\\core\\frame.py:4102\u001b[0m, in \u001b[0;36mDataFrame.__getitem__\u001b[1;34m(self, key)\u001b[0m\n\u001b[0;32m   4100\u001b[0m \u001b[38;5;28;01mif\u001b[39;00m \u001b[38;5;28mself\u001b[39m\u001b[38;5;241m.\u001b[39mcolumns\u001b[38;5;241m.\u001b[39mnlevels \u001b[38;5;241m>\u001b[39m \u001b[38;5;241m1\u001b[39m:\n\u001b[0;32m   4101\u001b[0m     \u001b[38;5;28;01mreturn\u001b[39;00m \u001b[38;5;28mself\u001b[39m\u001b[38;5;241m.\u001b[39m_getitem_multilevel(key)\n\u001b[1;32m-> 4102\u001b[0m indexer \u001b[38;5;241m=\u001b[39m \u001b[38;5;28;43mself\u001b[39;49m\u001b[38;5;241;43m.\u001b[39;49m\u001b[43mcolumns\u001b[49m\u001b[38;5;241;43m.\u001b[39;49m\u001b[43mget_loc\u001b[49m\u001b[43m(\u001b[49m\u001b[43mkey\u001b[49m\u001b[43m)\u001b[49m\n\u001b[0;32m   4103\u001b[0m \u001b[38;5;28;01mif\u001b[39;00m is_integer(indexer):\n\u001b[0;32m   4104\u001b[0m     indexer \u001b[38;5;241m=\u001b[39m [indexer]\n",
      "File \u001b[1;32mc:\\Users\\marti\\anaconda3\\envs\\aidojo\\Lib\\site-packages\\pandas\\core\\indexes\\base.py:3812\u001b[0m, in \u001b[0;36mIndex.get_loc\u001b[1;34m(self, key)\u001b[0m\n\u001b[0;32m   3807\u001b[0m     \u001b[38;5;28;01mif\u001b[39;00m \u001b[38;5;28misinstance\u001b[39m(casted_key, \u001b[38;5;28mslice\u001b[39m) \u001b[38;5;129;01mor\u001b[39;00m (\n\u001b[0;32m   3808\u001b[0m         \u001b[38;5;28misinstance\u001b[39m(casted_key, abc\u001b[38;5;241m.\u001b[39mIterable)\n\u001b[0;32m   3809\u001b[0m         \u001b[38;5;129;01mand\u001b[39;00m \u001b[38;5;28many\u001b[39m(\u001b[38;5;28misinstance\u001b[39m(x, \u001b[38;5;28mslice\u001b[39m) \u001b[38;5;28;01mfor\u001b[39;00m x \u001b[38;5;129;01min\u001b[39;00m casted_key)\n\u001b[0;32m   3810\u001b[0m     ):\n\u001b[0;32m   3811\u001b[0m         \u001b[38;5;28;01mraise\u001b[39;00m InvalidIndexError(key)\n\u001b[1;32m-> 3812\u001b[0m     \u001b[38;5;28;01mraise\u001b[39;00m \u001b[38;5;167;01mKeyError\u001b[39;00m(key) \u001b[38;5;28;01mfrom\u001b[39;00m \u001b[38;5;21;01merr\u001b[39;00m\n\u001b[0;32m   3813\u001b[0m \u001b[38;5;28;01mexcept\u001b[39;00m \u001b[38;5;167;01mTypeError\u001b[39;00m:\n\u001b[0;32m   3814\u001b[0m     \u001b[38;5;66;03m# If we have a listlike key, _check_indexing_error will raise\u001b[39;00m\n\u001b[0;32m   3815\u001b[0m     \u001b[38;5;66;03m#  InvalidIndexError. Otherwise we fall through and re-raise\u001b[39;00m\n\u001b[0;32m   3816\u001b[0m     \u001b[38;5;66;03m#  the TypeError.\u001b[39;00m\n\u001b[0;32m   3817\u001b[0m     \u001b[38;5;28mself\u001b[39m\u001b[38;5;241m.\u001b[39m_check_indexing_error(key)\n",
      "\u001b[1;31mKeyError\u001b[0m: 'x'"
     ]
    }
   ],
   "source": [
    "import numpy as np\n",
    "import pandas as pd\n",
    "from scipy.stats import weibull_min\n",
    "from scipy.optimize import minimize\n",
    "from statsmodels.duration import api as smd\n",
    "import statsmodels.api as sm\n",
    "\n",
    "# ... (Load and prepare your data: 'time', 'event' columns) ...\n",
    "x = df['doba práce v oboru [roky]'].values\n",
    "censored = df['censored'].values\n",
    "\n",
    "# Define the log-likelihood function for right-censored Weibull\n",
    "def weibull_loglik(params, time, event):\n",
    "    shape, scale = params\n",
    "    loglik = 0\n",
    "    for t, e in zip(time, event):\n",
    "        if e == 1:  # Uncensored\n",
    "            loglik += np.log(weibull_min.pdf(t, shape, scale=scale))\n",
    "        else:  # Censored\n",
    "            loglik += np.log(weibull_min.sf(t, shape, scale=scale))  # Survival function\n",
    "    return -loglik  # Minimize the negative log-likelihood\n",
    "\n",
    "# Initial parameter guess\n",
    "initial_params = [1, 1]  # Shape, scale\n",
    "\n",
    "# Minimize the negative log-likelihood\n",
    "result = minimize(weibull_loglik, initial_params, args=(data['time'], data['event']), bounds=[(0.001, None), (0.001, None)]) # positive constraints on shape and scale.\n",
    "\n",
    "# Extract estimated parameters\n",
    "shape_est, scale_est = result.x\n",
    "print(f\"Estimated shape: {shape_est}, Estimated scale: {scale_est}\")"
   ]
  },
  {
   "cell_type": "code",
   "execution_count": 3,
   "metadata": {},
   "outputs": [
    {
     "data": {
      "text/plain": [
       "(1, 1.0, 0, 1.05)"
      ]
     },
     "execution_count": 3,
     "metadata": {},
     "output_type": "execute_result"
    }
   ],
   "source": [
    "scipy.stats.exponweib.fit(df, floc=0, f0=1)"
   ]
  },
  {
   "cell_type": "markdown",
   "metadata": {},
   "source": [
    "k shape parameter volím väčší ako 1 k > 1 pretože sa časom predpoklada, že menej ľudi bude časom pracovať vo vyštudovanom obore."
   ]
  },
  {
   "cell_type": "code",
   "execution_count": null,
   "metadata": {},
   "outputs": [],
   "source": []
  },
  {
   "cell_type": "markdown",
   "metadata": {},
   "source": [
    "Regrese"
   ]
  },
  {
   "cell_type": "code",
   "execution_count": null,
   "metadata": {},
   "outputs": [],
   "source": []
  },
  {
   "cell_type": "code",
   "execution_count": null,
   "metadata": {},
   "outputs": [],
   "source": []
  }
 ],
 "metadata": {
  "kernelspec": {
   "display_name": "aidojo",
   "language": "python",
   "name": "python3"
  },
  "language_info": {
   "codemirror_mode": {
    "name": "ipython",
    "version": 3
   },
   "file_extension": ".py",
   "mimetype": "text/x-python",
   "name": "python",
   "nbconvert_exporter": "python",
   "pygments_lexer": "ipython3",
   "version": "3.12.3"
  }
 },
 "nbformat": 4,
 "nbformat_minor": 2
}
