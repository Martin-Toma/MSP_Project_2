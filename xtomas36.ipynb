{
 "cells": [
  {
   "cell_type": "markdown",
   "metadata": {},
   "source": [
    "Věrohodnost"
   ]
  },
  {
   "cell_type": "code",
   "execution_count": 5,
   "metadata": {},
   "outputs": [],
   "source": [
    "import numpy as np\n",
    "import pandas as pd \n",
    "\n",
    "\n",
    "import matplotlib.pyplot as plt\n",
    "import scipy.optimize as optimize\n",
    "import scipy\n",
    "import seaborn as sns\n",
    "import json\n",
    "from zipfile import ZipFile"
   ]
  },
  {
   "cell_type": "code",
   "execution_count": 6,
   "metadata": {},
   "outputs": [
    {
     "name": "stdout",
     "output_type": "stream",
     "text": [
      "     censored  doba práce v oboru [roky]\n",
      "0           0                      6.528\n",
      "1           0                      6.013\n",
      "2           1                      6.055\n",
      "3           0                      7.243\n",
      "4           1                      5.629\n",
      "..        ...                        ...\n",
      "316         1                      5.562\n",
      "317         0                      5.491\n",
      "318         0                      6.761\n",
      "319         0                      7.062\n",
      "320         0                      5.784\n",
      "\n",
      "[321 rows x 2 columns]\n"
     ]
    }
   ],
   "source": [
    "# load data\n",
    "fileName = \"Data_2024.xlsx\"\n",
    "df = pd.read_excel(fileName, sheet_name=\"Data_věrohodnost\") # need pip install xlrd and openpyxl\n",
    "df = df.iloc[:, :-2] # remove columns without information\n",
    "# check types\n",
    "df['censored'] = df['censored'].astype(int)\n",
    "df['doba práce v oboru [roky]'] = df['doba práce v oboru [roky]'].astype(float)\n",
    "print(df)"
   ]
  },
  {
   "cell_type": "markdown",
   "metadata": {},
   "source": [
    "f(x;lambda, k) = "
   ]
  },
  {
   "cell_type": "code",
   "execution_count": 19,
   "metadata": {},
   "outputs": [
    {
     "name": "stdout",
     "output_type": "stream",
     "text": [
      "Odhadnuté parametry: k = 6.1728, λ = 7.4295\n"
     ]
    }
   ],
   "source": [
    "x = df['doba práce v oboru [roky]'].values\n",
    "censored = df['censored'].values\n",
    "\n",
    "# logaritmicka-verohodnostna funkcia\n",
    "def log_likelihood(params):\n",
    "    k, lamb = params\n",
    "    # log density\n",
    "    log_pdf = np.log(k) - np.log(lamb) * k + (k-1) * np.log(x) - ((x/lamb) ** k)\n",
    "    sf = np.exp(-(x / lamb)**k)  # survivor function\n",
    "    # Logaritmická věrohodnost\n",
    "    log_l = (1 - censored) * log_pdf + censored * np.log(sf)\n",
    "    return -np.sum(log_l)  # negation for minimization\n",
    "\n",
    "# Počáteční odhady\n",
    "initial_params = [1.0, 1.0]\n",
    "\n",
    "# Optimalizace\n",
    "result = optimize.minimize(log_likelihood, initial_params, method='L-BFGS-B')\n",
    "\n",
    "# Výsledky\n",
    "if result.success:\n",
    "    k_hat, lam_hat = result.x\n",
    "    print(f\"Odhadnuté parametry: k = {k_hat:.4f}, λ = {lam_hat:.4f}\")\n",
    "else:\n",
    "    print(\"Optimalizace selhala:\", result.message)"
   ]
  },
  {
   "cell_type": "code",
   "execution_count": null,
   "metadata": {},
   "outputs": [],
   "source": []
  },
  {
   "cell_type": "markdown",
   "metadata": {},
   "source": []
  },
  {
   "cell_type": "markdown",
   "metadata": {},
   "source": [
    "k shape parameter volím väčší ako 1 k > 1 pretože sa časom predpoklada, že menej ľudi bude časom pracovať vo vyštudovanom obore."
   ]
  },
  {
   "cell_type": "code",
   "execution_count": null,
   "metadata": {},
   "outputs": [],
   "source": []
  },
  {
   "cell_type": "markdown",
   "metadata": {},
   "source": [
    "Regrese"
   ]
  },
  {
   "cell_type": "code",
   "execution_count": null,
   "metadata": {},
   "outputs": [],
   "source": []
  },
  {
   "cell_type": "code",
   "execution_count": null,
   "metadata": {},
   "outputs": [],
   "source": []
  }
 ],
 "metadata": {
  "kernelspec": {
   "display_name": "aidojo",
   "language": "python",
   "name": "python3"
  },
  "language_info": {
   "codemirror_mode": {
    "name": "ipython",
    "version": 3
   },
   "file_extension": ".py",
   "mimetype": "text/x-python",
   "name": "python",
   "nbconvert_exporter": "python",
   "pygments_lexer": "ipython3",
   "version": "3.12.3"
  }
 },
 "nbformat": 4,
 "nbformat_minor": 2
}
