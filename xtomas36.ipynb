{
 "cells": [
  {
   "cell_type": "markdown",
   "metadata": {},
   "source": [
    "Věrohodnost"
   ]
  },
  {
   "cell_type": "code",
   "execution_count": 1,
   "metadata": {},
   "outputs": [],
   "source": [
    "import numpy as np\n",
    "import pandas as pd \n",
    "\n",
    "\n",
    "import matplotlib.pyplot as plt\n",
    "import scipy.optimize as optimize\n",
    "import scipy\n",
    "import seaborn as sns\n",
    "import json\n",
    "from zipfile import ZipFile"
   ]
  },
  {
   "cell_type": "markdown",
   "metadata": {},
   "source": [
    "1. \n",
    "Weibullovo rozdelenie\n",
    "$$\n",
    "f(x) = \n",
    "= \n",
    "\\begin{cases}\n",
    "\\frac{k}{\\lambda}(\\frac{x}{\\lambda}^{k-1})\\text{e}^{-(\\frac{x}{\\lambda})^k} & \\text{ if } x \\geq 0.5\\\\\n",
    "0 & \\text{ if } x < 0.5\n",
    "\\end{cases}\n",
    "$$\n",
    "\n",
    "$$ \n",
    "k \\in (0, \\infty) \n",
    "$$ \n",
    "k je shape,tvar parameter\n",
    "$$ \n",
    "\\lambda \\in (0, \\infty) \n",
    "$$ \n",
    "λ je scale, meritko parameter\n",
    "\n",
    "#### Logaritmická-verohodnostna funkcia\n",
    "$$\n",
    "l(k, \\lambda) = n*\\ln{k} - n*k*\\ln{\\lambda} + (k+1) * \\sum_{i=1}^{n} \\ln{x_{i}} - \\sum_{i=1}^{n} (\\frac{x_{i}}{\\lambda})^k\n",
    "$$\n",
    "\n",
    "#### Parciálna derivácia podľa parametru shape\n",
    "$$\n",
    "\\frac{\\partial l}{\\partial k} = \\frac{n}{k} - n*\\ln{\\lambda} + \\sum_{i=1}^{n} \\ln{x_{i}} - \\sum_{i=1}^{n} (\\ln{x_{i}} - \\ln{\\lambda}) * (\\frac{x_{i}}{\\lambda})^k\n",
    "$$\n",
    "#### Parciálna derivácia podľa parametru scale\n",
    "$$\n",
    "\\frac{\\partial l}{\\partial \\lambda} = - \\frac{n*k}{\\lambda} + \\frac{k}{\\lambda^{k+1}} * \\sum_{i=1}^{n} x_{i}^{k}\n",
    "$$"
   ]
  },
  {
   "cell_type": "code",
   "execution_count": 2,
   "metadata": {},
   "outputs": [
    {
     "name": "stdout",
     "output_type": "stream",
     "text": [
      "     censored  doba práce v oboru [roky]\n",
      "0           0                      6.528\n",
      "1           0                      6.013\n",
      "2           1                      6.055\n",
      "3           0                      7.243\n",
      "4           1                      5.629\n",
      "..        ...                        ...\n",
      "316         1                      5.562\n",
      "317         0                      5.491\n",
      "318         0                      6.761\n",
      "319         0                      7.062\n",
      "320         0                      5.784\n",
      "\n",
      "[321 rows x 2 columns]\n"
     ]
    }
   ],
   "source": [
    "# load data\n",
    "fileName = \"Data_2024.xlsx\"\n",
    "df = pd.read_excel(fileName, sheet_name=\"Data_věrohodnost\") # need pip install xlrd and openpyxl\n",
    "df = df.iloc[:, :-2] # remove columns without information\n",
    "# check types\n",
    "df['censored'] = df['censored'].astype(int)\n",
    "df['doba práce v oboru [roky]'] = df['doba práce v oboru [roky]'].astype(float)\n",
    "print(df)"
   ]
  },
  {
   "cell_type": "code",
   "execution_count": 78,
   "metadata": {},
   "outputs": [
    {
     "name": "stdout",
     "output_type": "stream",
     "text": [
      "Odhadnuté parametry: k = 6.1728, λ = 7.4295\n"
     ]
    }
   ],
   "source": [
    "x = df['doba práce v oboru [roky]'].values\n",
    "censored = df['censored'].values\n",
    "\n",
    "# logaritmicka-verohodnostna funkcia\n",
    "def log_likelihood(params):\n",
    "    k, lamb = params\n",
    "    # log density - log of pdf\n",
    "    log_pdf = np.log(k) - np.log(lamb) * k + (k-1) * np.log(x) - ((x/lamb) ** k)\n",
    "    sf = np.exp(-(x / lamb)**k)  # survivor function - from CDF\n",
    "    # Logaritmická věrohodnost\n",
    "    log_l = (1 - censored) * log_pdf + censored * np.log(sf)\n",
    "    return -np.sum(log_l)  # negation for minimization\n",
    "\n",
    "# Počáteční odhady\n",
    "initial_params = [1.0, 1.0]\n",
    "\n",
    "# Optimalizace\n",
    "result = optimize.minimize(log_likelihood, initial_params, method='L-BFGS-B')\n",
    "\n",
    "# Výsledky\n",
    "if result.success:\n",
    "    k_mle, lam_mle = result.x\n",
    "    print(f\"Odhadnuté parametry: k = {k_mle:.4f}, λ = {lam_mle:.4f}\")\n",
    "else:\n",
    "    print(\"Optimalizace selhala:\", result.message)"
   ]
  },
  {
   "cell_type": "markdown",
   "metadata": {},
   "source": [
    "$$\\hat k = 6.1728 $$\n",
    "\n",
    "$$\\hat λ = 7.4295$$"
   ]
  },
  {
   "cell_type": "markdown",
   "metadata": {},
   "source": [
    "3) Test verohodnostnym pomerom"
   ]
  },
  {
   "cell_type": "code",
   "execution_count": null,
   "metadata": {},
   "outputs": [
    {
     "name": "stdout",
     "output_type": "stream",
     "text": [
      "Odhadnutý parameter: λ = 9.0533\n",
      "746.3288140610031\n"
     ]
    }
   ],
   "source": [
    "# fix k to 1 and estimate MLE again\n",
    "x = df['doba práce v oboru [roky]'].values\n",
    "censored = df['censored'].values\n",
    "\n",
    "# logaritmicka-verohodnostna funkcia\n",
    "def log_likelihood(k_fix, lamb):\n",
    "    k = k_fix\n",
    "    # log density - log of pdf\n",
    "    log_pdf = np.log(k) - np.log(lamb) * k + (k-1) * np.log(x) - ((x/lamb) ** k)\n",
    "    sf = np.exp(-(x / lamb)**k)  # survivor function - from CDF\n",
    "    # Logaritmická věrohodnost\n",
    "    log_l = (1 - censored) * log_pdf + censored * np.log(sf)\n",
    "    return -np.sum(log_l)  # negation for minimization\n",
    "\n",
    "# Počáteční odhady\n",
    "initial_lamb = [1.0]\n",
    "k_fix = 1.0\n",
    "\n",
    "# Optimalizace\n",
    "result_exp = optimize.minimize(lambda lamb:log_likelihood(k_fix, lamb), initial_lamb, method='L-BFGS-B', bounds=[(1e-5, None)])\n",
    "\n",
    "# Výsledky\n",
    "if result_exp.success:\n",
    "    lam_exp_mle = result_exp.x[0]\n",
    "    print(f\"Odhadnutý parameter: λ = {lam_exp_mle:.4f}\")\n",
    "else:\n",
    "    print(\"Optimalizace selhala:\", result_exp.message)\n",
    "\n",
    "print(result_exp.fun)"
   ]
  },
  {
   "cell_type": "code",
   "execution_count": 87,
   "metadata": {},
   "outputs": [
    {
     "name": "stdout",
     "output_type": "stream",
     "text": [
      "592.3898153434229\n"
     ]
    }
   ],
   "source": [
    "lr = -2*(-result_exp.fun - (-result.fun))\n",
    "print(lr)"
   ]
  },
  {
   "cell_type": "markdown",
   "metadata": {},
   "source": [
    "Test\n",
    "$$\n",
    "H_0: k = 1 \\text{Stačí exponenciálne rozdelenia.}\n",
    "$$\n",
    "$$\n",
    "H_A: k \\neq 1 \\text{Exponenciálne rozdelenia nestačí.}\n",
    "$$\n",
    "$$\n",
    "stupne volnosti 2 - 1 = 1\n",
    "W'_0.05 = <0,\\Chi^2 0.95(1)> = <0, 3.841>\n",
    "$$\n",
    "testova statistika = 592.39 nelezi v kritickom obore, preto $H_0$ zamietam"
   ]
  },
  {
   "cell_type": "markdown",
   "metadata": {},
   "source": [
    "4. Bodové odhady pre strednu dobu zamestania v obore \n",
    "10% percentil zamestnania v obore"
   ]
  },
  {
   "cell_type": "code",
   "execution_count": 102,
   "metadata": {},
   "outputs": [
    {
     "name": "stdout",
     "output_type": "stream",
     "text": [
      "Stredna doba zamestnania v obore je 6.9032 rokov.\n",
      "10% percentil zamestnania v obore je 5.1598 rokov.\n"
     ]
    }
   ],
   "source": [
    "import scipy\n",
    "# mean of weibull random variable is mean time in the field\n",
    "Ex = lam_mle * scipy.special.factorial((1 + 1/k_mle) - 1)\n",
    "print(f\"Stredna doba zamestnania v obore je {Ex:.4f} rokov.\")\n",
    "\n",
    "# 10% employment in the field\n",
    "p = 0.1\n",
    "percentile = lam_mle * (-np.log(1-p))**(1/k_mle)\n",
    "print(f\"10% percentil zamestnania v obore je {percentile:.4f} rokov.\")"
   ]
  },
  {
   "cell_type": "markdown",
   "metadata": {},
   "source": [
    "Odpoveď: \n",
    "Stredna doba zamestnania v obore je 6.9032 rokov.\n",
    "10% percentil zamestnania v obore je 5.1598 rokov."
   ]
  },
  {
   "cell_type": "markdown",
   "metadata": {},
   "source": [
    "Väčšina ľudí pracuje obore do 7 rokov, desať percent ľudí zmení obor po piatich rokoch. "
   ]
  },
  {
   "cell_type": "markdown",
   "metadata": {},
   "source": [
    "Regrese"
   ]
  },
  {
   "cell_type": "code",
   "execution_count": null,
   "metadata": {},
   "outputs": [],
   "source": [
    "import pandas as pd\n",
    "import numpy as np\n",
    "import statsmodels.formula.api as smf\n",
    "import scipy.stats as stats\n",
    "import matplotlib.pyplot as plt\n",
    "import statsmodels.api as sm\n",
    "import seaborn as sns\n",
    "\n",
    "from statsmodels.stats.outliers_influence import variance_inflation_factor\n",
    "from statsmodels.graphics.gofplots import qqplot\n",
    "from matplotlib import cm"
   ]
  },
  {
   "cell_type": "code",
   "execution_count": null,
   "metadata": {},
   "outputs": [],
   "source": []
  },
  {
   "cell_type": "code",
   "execution_count": null,
   "metadata": {},
   "outputs": [],
   "source": [
    "# načítaj dáta z xlsx súboru\n",
    "fileName = \"Data_2024.xlsx\"\n",
    "df = pd.read_excel(fileName, sheet_name=\"Data_regrese\") # need pip install xlrd and openpyxl\n",
    "# skontroluj typy\n",
    "df['ActiveUsers'] = df['ActiveUsers'].astype(int)\n",
    "df['InteractingPct'] = df['InteractingPct'].astype(float)\n",
    "df['ScrollingPct'] = df['ScrollingPct'].astype(float)\n",
    "df['Ping [ms]'] = df['Ping [ms]'].astype(float)\n",
    "print(df)"
   ]
  },
  {
   "cell_type": "code",
   "execution_count": null,
   "metadata": {},
   "outputs": [],
   "source": [
    "print(df[\"OSType\"].unique()) # ktoré OS sú v dátach"
   ]
  },
  {
   "cell_type": "code",
   "execution_count": null,
   "metadata": {},
   "outputs": [],
   "source": [
    "# nahrad OSType stlpec s one-hot encoding ekvivalentom\n",
    "df = pd.concat([df.drop(columns=[\"OSType\", ]), pd.get_dummies(df[\"OSType\"])], axis=1)\n",
    "#  premenuj ping aby sa dal pouzit v ols formuly\n",
    "df = pd.concat([df.drop(columns=[\"Ping [ms]\"]), df[\"Ping [ms]\"].rename(\"ping\")], axis=1)\n",
    "print(df)"
   ]
  },
  {
   "cell_type": "markdown",
   "metadata": {},
   "source": [
    "Plný kvadratický model je:\n",
    "$$\n",
    "\\displaystyle\n",
    "\\begin{align*}\n",
    "\\text{Ping} &= \\beta_0 + \\beta_1 \\text{ActiveUsers} + \\beta_2 \\text{InteractingPct} + \\beta_3 \\text{ScrollingPct} \\\\\n",
    "&+ \\beta_4 \\text{iOS} + \\beta_5 \\text{Windows} + \\beta_6 \\text{Android}\\\\\n",
    "&+ \\beta_{11} (\\text{ActiveUsers}^2) + \\beta_{22} (\\text{InteractingPct}^2) + \\beta_{33} (\\text{ScrollingPct}^2) \\\\\n",
    "&+ \\beta_{12} ( \\text{ActiveUsers} \\times \\text{InteractingPct}) + \\beta_{13} ( \\text{ActiveUsers} \\times \\text{ScrollingPct}) \\\\\n",
    "&+ \\beta_{23} ( \\text{InteractingPct} \\times \\text{ScrollingPct}) \\\\\n",
    "&+ \\beta_{14} ( \\text{ActiveUsers} \\times \\text{iOS}) + \\beta_{15} ( \\text{ActiveUsers} \\times \\text{Windows}) + \\beta_{16} ( \\text{ActiveUsers} \\times \\text{Android}) \\\\\n",
    "&+ \\beta_{24} ( \\text{InteractingPct} \\times \\text{iOS}) + \\beta_{25} ( \\text{InteractingPct} \\times \\text{Windows}) + \\beta_{26} ( \\text{InteractingPct} \\times \\text{Android}) \\\\\n",
    "&+ \\beta_{34} ( \\text{ScrollingPct} \\times \\text{iOS}) + \\beta_{35} ( \\text{ScrollingPct} \\times \\text{Windows}) + \\beta_{36} ( \\text{ScrollingPct} \\times \\text{Android})\n",
    "+ \\epsilon\n",
    "\\end{align*}\n",
    "$$"
   ]
  },
  {
   "cell_type": "code",
   "execution_count": null,
   "metadata": {},
   "outputs": [],
   "source": [
    "# definuj funkciu pre zostavenie modelu a zobrazenie summary, VIF a korelacie prediktorov\n",
    "def buildModelRunStats(formula, dframe):\n",
    "    model=smf.ols(formula=formula,data=dframe) # přepiš původní (lineární) model\n",
    "    results=model.fit()\n",
    "    print(results.summary())\n",
    "    #upozorni na významnost koeficientů, R^2 atp\n",
    "    # získej VIF a slož všechny VIF do dataframe\n",
    "    X = pd.DataFrame(model.exog, columns=model.exog_names)\n",
    "    vif = pd.Series([variance_inflation_factor(X.values, i)\n",
    "                    for i in range(X.shape[1])],\n",
    "                    index=X.columns)\n",
    "    vif_df = vif.to_frame()\n",
    "    # Nastavení názvu sloupce\n",
    "    vif_df.columns = ['VIF']\n",
    "    print('\\n\\n\\n')\n",
    "    print(\"VIF\")\n",
    "    print(vif_df)\n",
    "    #ukaž korelaci prediktorů\n",
    "    print('\\n\\n\\n')\n",
    "    print(\"Compute pairwise correlation of columns\")\n",
    "    print(X.corr())\n",
    "\n",
    "def buildModelSummary(formula, dframe):\n",
    "    model=smf.ols(formula=formula,data=dframe) # přepiš původní (lineární) model\n",
    "    results=model.fit()\n",
    "    print(results.summary())\n",
    "    return results\n",
    "\n",
    "def buildModelPrintVIF(formula, dframe):\n",
    "    model=smf.ols(formula=formula,data=dframe) # přepiš původní (lineární) model\n",
    "    #upozorni na významnost koeficientů, R^2 atp\n",
    "    # získej VIF a slož všechny VIF do dataframe\n",
    "    X = pd.DataFrame(model.exog, columns=model.exog_names)\n",
    "    vif = pd.Series([variance_inflation_factor(X.values, i)\n",
    "                    for i in range(X.shape[1])],\n",
    "                    index=X.columns)\n",
    "    vif_df = vif.to_frame()\n",
    "    # Nastavení názvu sloupce\n",
    "    vif_df.columns = ['VIF']\n",
    "    print(\"VIF\")\n",
    "    print(vif_df)"
   ]
  },
  {
   "cell_type": "code",
   "execution_count": null,
   "metadata": {},
   "outputs": [],
   "source": [
    "formula = 'ping~ActiveUsers + InteractingPct + ScrollingPct + iOS + Windows + Android + I(ActiveUsers**2) + I(InteractingPct**2) + I(ScrollingPct**2) + ActiveUsers:InteractingPct + ActiveUsers:ScrollingPct + InteractingPct:ScrollingPct + ActiveUsers:iOS + ActiveUsers:Windows + ActiveUsers:Android + InteractingPct:iOS + InteractingPct:Windows + InteractingPct:Android + ScrollingPct:iOS + ScrollingPct:Windows + ScrollingPct:Android'\n",
    "buildModelRunStats(formula, df)"
   ]
  },
  {
   "cell_type": "code",
   "execution_count": null,
   "metadata": {},
   "outputs": [],
   "source": [
    "buildModelPrintVIF(formula, df)"
   ]
  },
  {
   "cell_type": "code",
   "execution_count": null,
   "metadata": {},
   "outputs": [],
   "source": [
    "# overenie korelacie\n",
    "correlationOut = df[[\"InteractingPct\", \"ScrollingPct\"]].corr()\n",
    "print(correlationOut)"
   ]
  },
  {
   "cell_type": "markdown",
   "metadata": {},
   "source": [
    "Podľa riadku: InteractingPct:ScrollingPct                     1.000000\n",
    "\n",
    "existuje perfektná korelácia medzi závislými premennými InteractingPct a ScrollingPct, preto použijem len jednu. Ďalej som zvolil, že budem používať InteractingPct."
   ]
  },
  {
   "cell_type": "code",
   "execution_count": null,
   "metadata": {},
   "outputs": [],
   "source": [
    "# formula bez ScrollingPct\n",
    "formula = 'ping~ActiveUsers + InteractingPct + iOS + Windows + Android + I(ActiveUsers**2) + I(InteractingPct**2) + ActiveUsers:InteractingPct + ActiveUsers:iOS + ActiveUsers:Windows + ActiveUsers:Android + InteractingPct:iOS + InteractingPct:Windows + InteractingPct:Android'\n",
    "buildModelRunStats(formula, df)"
   ]
  },
  {
   "cell_type": "code",
   "execution_count": null,
   "metadata": {},
   "outputs": [],
   "source": [
    "# bez ScrollingPct\n",
    "buildModelPrintVIF(formula, df)"
   ]
  },
  {
   "cell_type": "markdown",
   "metadata": {},
   "source": [
    "Existuje korelácia medzi ActiveUsers a InteractingPct\n",
    "použijem z-scores $\\frac{x-\\bar{x}}{s(x)}$ štandardizácia na 0 priemer a 1 smerodatnú odchylku "
   ]
  },
  {
   "cell_type": "code",
   "execution_count": null,
   "metadata": {},
   "outputs": [],
   "source": [
    "dfSt=df.copy()\n",
    "# odcitaj priemer a podel smerodatnou odchylkou\n",
    "dfSt['ActiveUsers']=(dfSt['ActiveUsers']-dfSt['ActiveUsers'].mean())/dfSt['ActiveUsers'].std()\n",
    "dfSt['InteractingPct']=(dfSt['InteractingPct']-dfSt['InteractingPct'].mean())/dfSt['InteractingPct'].std()"
   ]
  },
  {
   "cell_type": "code",
   "execution_count": null,
   "metadata": {},
   "outputs": [],
   "source": [
    "# so standardizaciou ActiveUsers a InteractingPct\n",
    "formula = 'ping~ActiveUsers + InteractingPct + iOS + Windows + Android + I(ActiveUsers**2) + I(InteractingPct**2) + ActiveUsers:InteractingPct + ActiveUsers:iOS + ActiveUsers:Windows + ActiveUsers:Android + InteractingPct:iOS + InteractingPct:Windows + InteractingPct:Android'\n",
    "buildModelRunStats(formula, dfSt)"
   ]
  },
  {
   "cell_type": "code",
   "execution_count": null,
   "metadata": {},
   "outputs": [],
   "source": [
    "# so standardizaciou ActiveUsers a InteractingPct\n",
    "buildModelPrintVIF(formula, dfSt)"
   ]
  },
  {
   "cell_type": "markdown",
   "metadata": {},
   "source": [
    "Teraz je VIF akceptovateľný (VIF < 10).\n",
    "Môžem začať so spätnou elimináciou, eliminujem kým nedosiahnem p < 0.05 pre všetky interakcie."
   ]
  },
  {
   "cell_type": "code",
   "execution_count": null,
   "metadata": {},
   "outputs": [],
   "source": [
    "# este raz spustim so standardizaciou ActiveUsers a InteractingPct\n",
    "formula = 'ping~ActiveUsers + InteractingPct + iOS + Windows + Android + I(ActiveUsers**2) + I(InteractingPct**2) + ActiveUsers:InteractingPct + ActiveUsers:iOS + ActiveUsers:Windows + ActiveUsers:Android + InteractingPct:iOS + InteractingPct:Windows + InteractingPct:Android'\n",
    "buildModelPrintVIF(formula, dfSt)"
   ]
  },
  {
   "cell_type": "markdown",
   "metadata": {},
   "source": [
    "Najväčšia hodnota je 0.888 pre InteractingPct:Android, preto tento člen vymažem"
   ]
  },
  {
   "cell_type": "code",
   "execution_count": null,
   "metadata": {},
   "outputs": [],
   "source": [
    "# vymazany InteractingPct:Android\n",
    "formula = 'ping~ActiveUsers + InteractingPct + iOS + Windows + Android + I(ActiveUsers**2) + I(InteractingPct**2) + ActiveUsers:InteractingPct + ActiveUsers:iOS + ActiveUsers:Windows + ActiveUsers:Android + InteractingPct:iOS + InteractingPct:Windows'\n",
    "buildModelPrintVIF(formula, dfSt)"
   ]
  },
  {
   "cell_type": "markdown",
   "metadata": {},
   "source": [
    "Ďalší bol člen InteractingPct:iOS 0.828"
   ]
  },
  {
   "cell_type": "code",
   "execution_count": null,
   "metadata": {},
   "outputs": [],
   "source": [
    "# vymazany InteractingPct:iOS\n",
    "formula = 'ping~ActiveUsers + InteractingPct + iOS + Windows + Android + I(ActiveUsers**2) + I(InteractingPct**2) + ActiveUsers:InteractingPct + ActiveUsers:iOS + ActiveUsers:Windows + ActiveUsers:Android + InteractingPct:Windows'\n",
    "buildModelPrintVIF(formula, dfSt)"
   ]
  },
  {
   "cell_type": "markdown",
   "metadata": {},
   "source": [
    "InteractingPct:Windows 0.821 "
   ]
  },
  {
   "cell_type": "code",
   "execution_count": null,
   "metadata": {},
   "outputs": [],
   "source": [
    "# bez InteractingPct:Windows\n",
    "formula = 'ping~ActiveUsers + InteractingPct + iOS + Windows + Android + I(ActiveUsers**2) + I(InteractingPct**2) + ActiveUsers:InteractingPct + ActiveUsers:iOS + ActiveUsers:Windows + ActiveUsers:Android'\n",
    "buildModelPrintVIF(formula, dfSt)"
   ]
  },
  {
   "cell_type": "markdown",
   "metadata": {},
   "source": [
    "I(InteractingPct ** 2) 0.278 "
   ]
  },
  {
   "cell_type": "code",
   "execution_count": null,
   "metadata": {},
   "outputs": [],
   "source": [
    "# bez I(InteractingPct ** 2)\n",
    "formula = 'ping~ActiveUsers + InteractingPct + iOS + Windows + Android + I(ActiveUsers**2) + ActiveUsers:InteractingPct + ActiveUsers:iOS + ActiveUsers:Windows + ActiveUsers:Android'\n",
    "resModel = buildModelPrintVIF(formula, dfSt)"
   ]
  },
  {
   "cell_type": "markdown",
   "metadata": {},
   "source": [
    "Už neostali žiadne členy s p-hodnotou >= 0.05."
   ]
  },
  {
   "cell_type": "markdown",
   "metadata": {},
   "source": [
    "#### 1 a) Rovnica výsledného modelu\n",
    "\n",
    "$$\n",
    "\\displaystyle\n",
    "\\begin{align*}\n",
    "\\text{Ping} &= \\beta_0 + \\beta_1 \\text{ActiveUsers} + \\beta_2 \\text{InteractingPct} \\\\\n",
    "&+ \\beta_4 \\text{iOS} + \\beta_5 \\text{Windows} + \\beta_6 \\text{Android}\\\\\n",
    "&+ \\beta_{11} (\\text{ActiveUsers}^2) \\\\\n",
    "&+ \\beta_{12} ( \\text{ActiveUsers} \\times \\text{InteractingPct})  \\\\\n",
    "&+ \\beta_{14} ( \\text{ActiveUsers} \\times \\text{iOS}) + \\beta_{15} ( \\text{ActiveUsers} \\times \\text{Windows}) \\\\\n",
    "&+ \\beta_{16} ( \\text{ActiveUsers} \\times \\text{Android}) + \\epsilon\n",
    "\\end{align*}\n",
    "$$"
   ]
  },
  {
   "cell_type": "markdown",
   "metadata": {},
   "source": [
    "##### Kontrola či dáta neobsahujú outliery.\n",
    "Najskôr si zobrazím graf reziduí a potom spočítam Cookovu vzdialenosť."
   ]
  },
  {
   "cell_type": "code",
   "execution_count": null,
   "metadata": {},
   "outputs": [],
   "source": [
    "# graf rezidui\n",
    "# res vs ping\n",
    "plt.scatter(dfSt['ping'], resModel.resid)\n",
    "plt.axhline(y=0, color='r', linestyle='-')\n",
    "plt.grid(True)\n",
    "plt.title(\"Rezidua vs Ping\")\n",
    "plt.xlabel(\"Ping\")\n",
    "plt.ylabel(\"Rezidua\")\n",
    "\n",
    "plt.show()"
   ]
  },
  {
   "cell_type": "code",
   "execution_count": null,
   "metadata": {},
   "outputs": [],
   "source": [
    "influence = resModel.get_influence()\n",
    "# Leverage\n",
    "leverage = influence.hat_matrix_diag\n",
    "# Cookovy D hodnoty (a p-hodnoty) jako n-tice polí [n x 2]\n",
    "cooks_d = influence.cooks_distance\n",
    "# Standardizovaná rezidua\n",
    "standardized_residuals = influence.resid_studentized_internal\n",
    "# Studentizovaná rezidua\n",
    "studentized_residuals = influence.resid_studentized_external\n",
    "\n",
    "#tabulka dohromady dořešit změny počtu řádků\n",
    "outl_stats_df = pd.DataFrame({\n",
    "    'Leverage': leverage,\n",
    "    'Standardized Residuals': standardized_residuals,\n",
    "    'Studentized Residuals': studentized_residuals,\n",
    "    'Cook\\'s Distance': cooks_d[0],\n",
    "    'Cook\\'s Distance_p-value': cooks_d[1]\n",
    "}, index=dfSt.index)\n",
    "#vyber jen \"zajímavý\" hodnoty\n",
    "outl_stats_df = outl_stats_df[(outl_stats_df['Leverage'] > 3*len(resModel.params)/dfSt.shape[0]) | (np.abs(outl_stats_df['Standardized Residuals']) > 2) | (outl_stats_df['Cook\\'s Distance_p-value'] < 0.05)]\n",
    "\n",
    "\n",
    "print(outl_stats_df)"
   ]
  },
  {
   "cell_type": "markdown",
   "metadata": {},
   "source": [
    "Podľa grafu reziduí je vidieť, že sa dve hodnoty veľmi líšia od ostatných - sú to hľadané outliery. Podľa výpočtu štandardizovaných a študentizovaných reziduí sú najviac líšiace sa merania s indexmi 255 a 476. Preto ich v ďalšom kroku odstránim a znovu vizualizujem graf reziduí."
   ]
  },
  {
   "cell_type": "code",
   "execution_count": null,
   "metadata": {},
   "outputs": [],
   "source": [
    "# vymazanie outlierov\n",
    "outlierIndxs = [255,476]\n",
    "print(f\"Drop: {outlierIndxs}\")\n",
    "dfStNoOut = dfSt.drop(index=outlierIndxs)"
   ]
  },
  {
   "cell_type": "code",
   "execution_count": null,
   "metadata": {},
   "outputs": [],
   "source": [
    "# model bez outlierov\n",
    "formula = 'ping~ActiveUsers + InteractingPct + iOS + Windows + Android + I(ActiveUsers**2) + ActiveUsers:InteractingPct + ActiveUsers:iOS + ActiveUsers:Windows + ActiveUsers:Android'\n",
    "finalModel = buildModelSummary(formula, dfStNoOut)"
   ]
  },
  {
   "cell_type": "code",
   "execution_count": null,
   "metadata": {},
   "outputs": [],
   "source": [
    "# graf rezidui\n",
    "# res vs ping\n",
    "plt.scatter(dfStNoOut['ping'], finalModel.resid)\n",
    "plt.axhline(y=0, color='r', linestyle='-')\n",
    "plt.grid(True)\n",
    "plt.title(\"Rezidua vs Ping\")\n",
    "plt.xlabel(\"Ping\")\n",
    "plt.ylabel(\"Rezidua\")\n",
    "\n",
    "plt.show()"
   ]
  },
  {
   "cell_type": "markdown",
   "metadata": {},
   "source": [
    "Odstránil som správne dve hodnoty a model sa podľa koeficientu determinácie zlepšil z 0.843 na 0.877. Odstránené hodnoty mohli byť valídne avšak bolo by potreba viac dát s podobnými hodnotami aby som ich mohol použiť.\n",
    "\n",
    "Teraz je model hotový."
   ]
  }
 ],
 "metadata": {
  "kernelspec": {
   "display_name": "aidojo",
   "language": "python",
   "name": "python3"
  },
  "language_info": {
   "codemirror_mode": {
    "name": "ipython",
    "version": 3
   },
   "file_extension": ".py",
   "mimetype": "text/x-python",
   "name": "python",
   "nbconvert_exporter": "python",
   "pygments_lexer": "ipython3",
   "version": "3.12.3"
  }
 },
 "nbformat": 4,
 "nbformat_minor": 2
}
