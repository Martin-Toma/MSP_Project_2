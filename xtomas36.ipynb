{
 "cells": [
  {
   "cell_type": "markdown",
   "metadata": {},
   "source": [
    "Věrohodnost"
   ]
  },
  {
   "cell_type": "code",
   "execution_count": 1,
   "metadata": {},
   "outputs": [],
   "source": [
    "import numpy as np\n",
    "import pandas as pd \n",
    "\n",
    "\n",
    "import matplotlib.pyplot as plt\n",
    "import scipy.optimize as optimize\n",
    "import scipy\n",
    "import seaborn as sns\n",
    "import json\n",
    "from zipfile import ZipFile"
   ]
  },
  {
   "cell_type": "markdown",
   "metadata": {},
   "source": [
    "1. \n",
    "Weibullovo rozdelenie\n",
    "$$\n",
    "f(x) = \n",
    "= \n",
    "\\begin{cases}\n",
    "\\frac{k}{\\lambda}(\\frac{x}{\\lambda}^{k-1})\\text{e}^{-(\\frac{x}{\\lambda})^k} & \\text{ if } x \\geq 0.5\\\\\n",
    "0 & \\text{ if } x < 0.5\n",
    "\\end{cases}\n",
    "$$\n",
    "\n",
    "$$ \n",
    "k \\in (0, \\infty) \n",
    "$$ \n",
    "k je shape,tvar parameter\n",
    "$$ \n",
    "\\lambda \\in (0, \\infty) \n",
    "$$ \n",
    "λ je scale, meritko parameter\n",
    "\n",
    "#### Logaritmická-verohodnostna funkcia\n",
    "$$\n",
    "l(k, \\lambda) = n*\\ln{k} - n*k*\\ln{\\lambda} + (k+1) * \\sum_{i=1}^{n} \\ln{x_{i}} - \\sum_{i=1}^{n} (\\frac{x_{i}}{\\lambda})^k\n",
    "$$\n",
    "\n",
    "#### Parciálna derivácia podľa parametru shape\n",
    "$$\n",
    "\\frac{\\partial l}{\\partial k} = \\frac{n}{k} - n*\\ln{\\lambda} + \\sum_{i=1}^{n} \\ln{x_{i}} - \\sum_{i=1}^{n} (\\ln{x_{i}} - \\ln{\\lambda}) * (\\frac{x_{i}}{\\lambda})^k\n",
    "$$\n",
    "#### Parciálna derivácia podľa parametru scale\n",
    "$$\n",
    "\\frac{\\partial l}{\\partial \\lambda} = - \\frac{n*k}{\\lambda} + \\frac{k}{\\lambda^{k+1}} * \\sum_{i=1}^{n} x_{i}^{k}\n",
    "$$"
   ]
  },
  {
   "cell_type": "code",
   "execution_count": 2,
   "metadata": {},
   "outputs": [
    {
     "name": "stdout",
     "output_type": "stream",
     "text": [
      "     censored  doba práce v oboru [roky]\n",
      "0           0                      6.528\n",
      "1           0                      6.013\n",
      "2           1                      6.055\n",
      "3           0                      7.243\n",
      "4           1                      5.629\n",
      "..        ...                        ...\n",
      "316         1                      5.562\n",
      "317         0                      5.491\n",
      "318         0                      6.761\n",
      "319         0                      7.062\n",
      "320         0                      5.784\n",
      "\n",
      "[321 rows x 2 columns]\n"
     ]
    }
   ],
   "source": [
    "# load data\n",
    "fileName = \"Data_2024.xlsx\"\n",
    "df = pd.read_excel(fileName, sheet_name=\"Data_věrohodnost\") # need pip install xlrd and openpyxl\n",
    "df = df.iloc[:, :-2] # remove columns without information\n",
    "# check types\n",
    "df['censored'] = df['censored'].astype(int)\n",
    "df['doba práce v oboru [roky]'] = df['doba práce v oboru [roky]'].astype(float)\n",
    "print(df)"
   ]
  },
  {
   "cell_type": "code",
   "execution_count": 78,
   "metadata": {},
   "outputs": [
    {
     "name": "stdout",
     "output_type": "stream",
     "text": [
      "Odhadnuté parametry: k = 6.1728, λ = 7.4295\n"
     ]
    }
   ],
   "source": [
    "x = df['doba práce v oboru [roky]'].values\n",
    "censored = df['censored'].values\n",
    "\n",
    "# logaritmicka-verohodnostna funkcia\n",
    "def log_likelihood(params):\n",
    "    k, lamb = params\n",
    "    # log density - log of pdf\n",
    "    log_pdf = np.log(k) - np.log(lamb) * k + (k-1) * np.log(x) - ((x/lamb) ** k)\n",
    "    sf = np.exp(-(x / lamb)**k)  # survivor function - from CDF\n",
    "    # Logaritmická věrohodnost\n",
    "    log_l = (1 - censored) * log_pdf + censored * np.log(sf)\n",
    "    return -np.sum(log_l)  # negation for minimization\n",
    "\n",
    "# Počáteční odhady\n",
    "initial_params = [1.0, 1.0]\n",
    "\n",
    "# Optimalizace\n",
    "result = optimize.minimize(log_likelihood, initial_params, method='L-BFGS-B')\n",
    "\n",
    "# Výsledky\n",
    "if result.success:\n",
    "    k_mle, lam_mle = result.x\n",
    "    print(f\"Odhadnuté parametry: k = {k_mle:.4f}, λ = {lam_mle:.4f}\")\n",
    "else:\n",
    "    print(\"Optimalizace selhala:\", result.message)"
   ]
  },
  {
   "cell_type": "markdown",
   "metadata": {},
   "source": [
    "$$\\hat k = 6.1728 $$\n",
    "\n",
    "$$\\hat λ = 7.4295$$"
   ]
  },
  {
   "cell_type": "markdown",
   "metadata": {},
   "source": [
    "3) Test verohodnostnym pomerom"
   ]
  },
  {
   "cell_type": "code",
   "execution_count": null,
   "metadata": {},
   "outputs": [
    {
     "name": "stdout",
     "output_type": "stream",
     "text": [
      "Odhadnutý parameter: λ = 9.0533\n",
      "746.3288140610031\n"
     ]
    }
   ],
   "source": [
    "# fix k to 1 and estimate MLE again\n",
    "x = df['doba práce v oboru [roky]'].values\n",
    "censored = df['censored'].values\n",
    "\n",
    "# logaritmicka-verohodnostna funkcia\n",
    "def log_likelihood(k_fix, lamb):\n",
    "    k = k_fix\n",
    "    # log density - log of pdf\n",
    "    log_pdf = np.log(k) - np.log(lamb) * k + (k-1) * np.log(x) - ((x/lamb) ** k)\n",
    "    sf = np.exp(-(x / lamb)**k)  # survivor function - from CDF\n",
    "    # Logaritmická věrohodnost\n",
    "    log_l = (1 - censored) * log_pdf + censored * np.log(sf)\n",
    "    return -np.sum(log_l)  # negation for minimization\n",
    "\n",
    "# Počáteční odhady\n",
    "initial_lamb = [1.0]\n",
    "k_fix = 1.0\n",
    "\n",
    "# Optimalizace\n",
    "result_exp = optimize.minimize(lambda lamb:log_likelihood(k_fix, lamb), initial_lamb, method='L-BFGS-B', bounds=[(1e-5, None)])\n",
    "\n",
    "# Výsledky\n",
    "if result_exp.success:\n",
    "    lam_exp_mle = result_exp.x[0]\n",
    "    print(f\"Odhadnutý parameter: λ = {lam_exp_mle:.4f}\")\n",
    "else:\n",
    "    print(\"Optimalizace selhala:\", result_exp.message)\n",
    "\n",
    "print(result_exp.fun)"
   ]
  },
  {
   "cell_type": "code",
   "execution_count": 87,
   "metadata": {},
   "outputs": [
    {
     "name": "stdout",
     "output_type": "stream",
     "text": [
      "592.3898153434229\n"
     ]
    }
   ],
   "source": [
    "lr = -2*(-result_exp.fun - (-result.fun))\n",
    "print(lr)"
   ]
  },
  {
   "cell_type": "markdown",
   "metadata": {},
   "source": [
    "Test\n",
    "$$\n",
    "H_0: k = 1 \\text{Stačí exponenciálne rozdelenia.}\n",
    "$$\n",
    "$$\n",
    "H_A: k \\neq 1 \\text{Exponenciálne rozdelenia nestačí.}\n",
    "$$\n",
    "$$\n",
    "stupne volnosti 2 - 1 = 1\n",
    "W'_0.05 = <0,\\Chi^2 0.95(1)> = <0, 3.841>\n",
    "$$\n",
    "testova statistika = 592.39 nelezi v kritickom obore, preto $H_0$ zamietam"
   ]
  },
  {
   "cell_type": "markdown",
   "metadata": {},
   "source": [
    "4. Bodové odhady pre strednu dobu zamestania v obore \n",
    "10% percentil zamestnania v obore"
   ]
  },
  {
   "cell_type": "code",
   "execution_count": 102,
   "metadata": {},
   "outputs": [
    {
     "name": "stdout",
     "output_type": "stream",
     "text": [
      "Stredna doba zamestnania v obore je 6.9032 rokov.\n",
      "10% percentil zamestnania v obore je 5.1598 rokov.\n"
     ]
    }
   ],
   "source": [
    "import scipy\n",
    "# mean of weibull random variable is mean time in the field\n",
    "Ex = lam_mle * scipy.special.factorial((1 + 1/k_mle) - 1)\n",
    "print(f\"Stredna doba zamestnania v obore je {Ex:.4f} rokov.\")\n",
    "\n",
    "# 10% employment in the field\n",
    "p = 0.1\n",
    "percentile = lam_mle * (-np.log(1-p))**(1/k_mle)\n",
    "print(f\"10% percentil zamestnania v obore je {percentile:.4f} rokov.\")"
   ]
  },
  {
   "cell_type": "markdown",
   "metadata": {},
   "source": [
    "Odpoveď: \n",
    "Stredna doba zamestnania v obore je 6.9032 rokov.\n",
    "10% percentil zamestnania v obore je 5.1598 rokov."
   ]
  },
  {
   "cell_type": "markdown",
   "metadata": {},
   "source": [
    "Väčšina ľudí pracuje obore do 7 rokov, desať percent ľudí zmení obor po piatich rokoch. "
   ]
  },
  {
   "cell_type": "markdown",
   "metadata": {},
   "source": [
    "Regrese"
   ]
  },
  {
   "cell_type": "markdown",
   "metadata": {},
   "source": []
  },
  {
   "cell_type": "code",
   "execution_count": null,
   "metadata": {},
   "outputs": [],
   "source": []
  },
  {
   "cell_type": "code",
   "execution_count": null,
   "metadata": {},
   "outputs": [],
   "source": []
  }
 ],
 "metadata": {
  "kernelspec": {
   "display_name": "aidojo",
   "language": "python",
   "name": "python3"
  },
  "language_info": {
   "codemirror_mode": {
    "name": "ipython",
    "version": 3
   },
   "file_extension": ".py",
   "mimetype": "text/x-python",
   "name": "python",
   "nbconvert_exporter": "python",
   "pygments_lexer": "ipython3",
   "version": "3.12.3"
  }
 },
 "nbformat": 4,
 "nbformat_minor": 2
}
