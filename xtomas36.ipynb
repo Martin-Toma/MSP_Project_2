{
 "cells": [
  {
   "cell_type": "markdown",
   "metadata": {},
   "source": [
    "Věrohodnost"
   ]
  },
  {
   "cell_type": "code",
   "execution_count": 6,
   "metadata": {},
   "outputs": [],
   "source": [
    "import numpy as np\n",
    "import pandas as pd \n",
    "\n",
    "\n",
    "import matplotlib.pyplot as plt\n",
    "import scipy.stats as stats\n",
    "import seaborn as sns\n",
    "import json\n",
    "from zipfile import ZipFile"
   ]
  },
  {
   "cell_type": "code",
   "execution_count": 8,
   "metadata": {},
   "outputs": [
    {
     "name": "stdout",
     "output_type": "stream",
     "text": [
      "     censored  doba práce v oboru [roky]  Unnamed: 2  \\\n",
      "0           0                      6.528         NaN   \n",
      "1           0                      6.013         NaN   \n",
      "2           1                      6.055         NaN   \n",
      "3           0                      7.243         NaN   \n",
      "4           1                      5.629         NaN   \n",
      "..        ...                        ...         ...   \n",
      "316         1                      5.562         NaN   \n",
      "317         0                      5.491         NaN   \n",
      "318         0                      6.761         NaN   \n",
      "319         0                      7.062         NaN   \n",
      "320         0                      5.784         NaN   \n",
      "\n",
      "     censored = 1 znamená přestal komunikovat; censored = 0 znamená změnil obor  \n",
      "0                                                  NaN                           \n",
      "1                                                  NaN                           \n",
      "2                                                  NaN                           \n",
      "3                                                  NaN                           \n",
      "4                                                  NaN                           \n",
      "..                                                 ...                           \n",
      "316                                                NaN                           \n",
      "317                                                NaN                           \n",
      "318                                                NaN                           \n",
      "319                                                NaN                           \n",
      "320                                                NaN                           \n",
      "\n",
      "[321 rows x 4 columns]\n"
     ]
    }
   ],
   "source": [
    "fileName = \"Data_2024.xlsx\"\n",
    "df = pd.read_excel(fileName) # need pip install xlrd and openpyxl\n",
    "\n",
    "print(df)"
   ]
  },
  {
   "cell_type": "markdown",
   "metadata": {},
   "source": [
    "Regrese"
   ]
  },
  {
   "cell_type": "code",
   "execution_count": null,
   "metadata": {},
   "outputs": [],
   "source": []
  },
  {
   "cell_type": "code",
   "execution_count": null,
   "metadata": {},
   "outputs": [],
   "source": []
  }
 ],
 "metadata": {
  "kernelspec": {
   "display_name": "aidojo",
   "language": "python",
   "name": "python3"
  },
  "language_info": {
   "codemirror_mode": {
    "name": "ipython",
    "version": 3
   },
   "file_extension": ".py",
   "mimetype": "text/x-python",
   "name": "python",
   "nbconvert_exporter": "python",
   "pygments_lexer": "ipython3",
   "version": "3.12.3"
  }
 },
 "nbformat": 4,
 "nbformat_minor": 2
}
